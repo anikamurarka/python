{
 "cells": [
  {
   "cell_type": "code",
   "execution_count": 61,
   "id": "2c690ced",
   "metadata": {},
   "outputs": [],
   "source": [
    "# real life scenarios -> 1. file structure  -> root folder has directories and files(leaf nodes)\n",
    "# 2. Heirarichal structure of a company\n",
    "# trees have a beautiful recursive structure\n",
    "# binary tree -> each node having 0,1 or 2 children\n",
    "# traversals : \n",
    "# 1. Preorder : Root L R \n",
    "# 2. postorder : L R Root\n",
    "# 3. inorder: L root R\n",
    "# 4. level order\n",
    "# depth of a node : distance from the root\n",
    "# in normal scenario we O(n) work in BT"
   ]
  },
  {
   "cell_type": "code",
   "execution_count": 62,
   "id": "3bd15960",
   "metadata": {},
   "outputs": [],
   "source": [
    "class BinaryTreeNode:\n",
    "    def __init__(self,data):\n",
    "        self.data = data\n",
    "        self.left = None\n",
    "        self.right = None"
   ]
  },
  {
   "cell_type": "code",
   "execution_count": 63,
   "id": "8216fd4c",
   "metadata": {},
   "outputs": [],
   "source": [
    "def printBTDetailed(root):\n",
    "    if root is None:\n",
    "        return\n",
    "    print(root.data,end=\":\")\n",
    "    if root.left:\n",
    "        print('L',root.left.data,end=\",\")\n",
    "    if root.right:\n",
    "        print('R',root.right.data, end=\"\")\n",
    "    print()\n",
    "    printBTDetailed(root.left)\n",
    "    printBTDetailed(root.right)\n",
    "    return"
   ]
  },
  {
   "cell_type": "code",
   "execution_count": 64,
   "id": "3cc0f056",
   "metadata": {},
   "outputs": [],
   "source": [
    "def treeInput():\n",
    "    rootData = int(input())\n",
    "    if rootData == -1:\n",
    "        return None\n",
    "    root = BinaryTreeNode(rootData)\n",
    "    leftTree = treeInput()\n",
    "    rightTree = treeInput()\n",
    "    root.left = leftTree\n",
    "    root.right = rightTree\n",
    "    return root"
   ]
  },
  {
   "cell_type": "code",
   "execution_count": 65,
   "id": "28228d9b",
   "metadata": {},
   "outputs": [],
   "source": [
    "def numOfNodes(root):\n",
    "    if root is None:\n",
    "        return 0\n",
    "    return 1 + numOfNodes(root.left) + numOfNodes(root.right)"
   ]
  },
  {
   "cell_type": "code",
   "execution_count": 66,
   "id": "84b436ff",
   "metadata": {},
   "outputs": [],
   "source": [
    "def getSum(root):\n",
    "    if root is None:\n",
    "        return 0\n",
    "    return root.data + getSum(root.left) +getSum(root.right)"
   ]
  },
  {
   "cell_type": "code",
   "execution_count": 67,
   "id": "72ea2363",
   "metadata": {},
   "outputs": [],
   "source": [
    "def preOrder(root):\n",
    "    if root is None:\n",
    "        return \n",
    "    print(root.data,end=\" \")\n",
    "    preOrder(root.left)\n",
    "    preOrder(root.right)\n",
    "    return"
   ]
  },
  {
   "cell_type": "code",
   "execution_count": 68,
   "id": "a7480957",
   "metadata": {},
   "outputs": [],
   "source": [
    "def postOrder(root):\n",
    "    if root is None:\n",
    "        return \n",
    "    postOrder(root.left)\n",
    "    postOrder(root.right)\n",
    "    print(root.data,end=\" \")\n",
    "    return"
   ]
  },
  {
   "cell_type": "code",
   "execution_count": 69,
   "id": "c5dca6fc",
   "metadata": {},
   "outputs": [],
   "source": [
    "import sys\n",
    "def largestNode(root):\n",
    "    if root is None:\n",
    "        return -1\n",
    "    leftMax = largestNode(root.left)\n",
    "    rightMax = largestNode(root.right)\n",
    "    return max(root.data, rightMax,leftMax)"
   ]
  },
  {
   "cell_type": "code",
   "execution_count": 70,
   "id": "4b900843",
   "metadata": {},
   "outputs": [],
   "source": [
    "def countNodesGreaterThanX(root, x) :\n",
    "    if root is None:\n",
    "        return 0\n",
    "    if root.data > x:\n",
    "        return 1 + countNodesGreaterThanX(root.left, x) + countNodesGreaterThanX(root.right, x)\n",
    "    else:\n",
    "        return countNodesGreaterThanX(root.left, x) + countNodesGreaterThanX(root.right, x)"
   ]
  },
  {
   "cell_type": "code",
   "execution_count": 71,
   "id": "ffebe26c",
   "metadata": {},
   "outputs": [],
   "source": [
    "def height(root):\n",
    "    if root is None:\n",
    "        return 0\n",
    "    return 1+ max(height(root.left),height(root.right))"
   ]
  },
  {
   "cell_type": "code",
   "execution_count": 72,
   "id": "e35f9ca7",
   "metadata": {},
   "outputs": [],
   "source": [
    "def numberOfLeafNodes(root):\n",
    "    if root is None:\n",
    "        return 0\n",
    "    if root.left is None and root.right is None:\n",
    "        return 1\n",
    "    return numberOfLeafNodes(root.left)+ numberOfLeafNodes(root.right)"
   ]
  },
  {
   "cell_type": "code",
   "execution_count": 73,
   "id": "99e07eb3",
   "metadata": {},
   "outputs": [],
   "source": [
    "def printNodesAtDepthK(root,k):\n",
    "    if root is None:\n",
    "        return\n",
    "    if k<0:\n",
    "        return \n",
    "    if k==0:\n",
    "        print(root.data,end=\" \")\n",
    "        return\n",
    "    printNodesAtDepthK(root.left,k-1)\n",
    "    printNodesAtDepthK(root.right,k-1)\n",
    "    return\n",
    "    "
   ]
  },
  {
   "cell_type": "code",
   "execution_count": 74,
   "id": "83338de1",
   "metadata": {},
   "outputs": [],
   "source": [
    "def changeToDepthTreeHelper(root,depth):\n",
    "    if root is None:\n",
    "        return\n",
    "    root.data = depth\n",
    "    changeToDepthTreeHelper(root.left,depth+1)\n",
    "    changeToDepthTreeHelper(root.right,depth+1)\n",
    "    return\n",
    "\n",
    "def changeToDepthTree(root) :\n",
    "    if root is None:\n",
    "        return\n",
    "    return changeToDepthTreeHelper(root,0)"
   ]
  },
  {
   "cell_type": "code",
   "execution_count": 75,
   "id": "4eb4130e",
   "metadata": {},
   "outputs": [],
   "source": [
    "def printNodesWithoutSibling(root) :\n",
    "\t# Your code goes here\n",
    "    if root is None:\n",
    "        return None\n",
    "    if (root.left and not root.right):\n",
    "        print(root.left.data,end = \" \")\n",
    "    if (root.right and not root.left):\n",
    "        print(root.right.data,end = \" \")\n",
    "    printNodesWithoutSibling(root.left)\n",
    "    printNodesWithoutSibling(root.right)\n",
    "    return  "
   ]
  },
  {
   "cell_type": "code",
   "execution_count": 76,
   "id": "0e50a50b",
   "metadata": {},
   "outputs": [],
   "source": [
    "a1 = BinaryTreeNode(1)\n",
    "a2 = BinaryTreeNode(2)\n",
    "a3 = BinaryTreeNode(3)\n",
    "a4 = BinaryTreeNode(4)\n",
    "a5 = BinaryTreeNode(5)"
   ]
  },
  {
   "cell_type": "code",
   "execution_count": 77,
   "id": "81fe156b",
   "metadata": {},
   "outputs": [],
   "source": [
    "a1.left = a2\n",
    "a1.right = a3\n",
    "a2.left = a4\n",
    "a2.right = a5"
   ]
  },
  {
   "cell_type": "code",
   "execution_count": 78,
   "id": "ab4d611a",
   "metadata": {},
   "outputs": [
    {
     "name": "stdout",
     "output_type": "stream",
     "text": [
      "1:L 2,R 3\n",
      "2:L 4,R 5\n",
      "4:\n",
      "5:\n",
      "3:\n"
     ]
    }
   ],
   "source": [
    "# printing a binary tree\n",
    "printBTDetailed(a1)"
   ]
  },
  {
   "cell_type": "code",
   "execution_count": 79,
   "id": "c3f6046f",
   "metadata": {},
   "outputs": [
    {
     "ename": "KeyboardInterrupt",
     "evalue": "Interrupted by user",
     "output_type": "error",
     "traceback": [
      "\u001b[0;31m---------------------------------------------------------------------------\u001b[0m",
      "\u001b[0;31mKeyboardInterrupt\u001b[0m                         Traceback (most recent call last)",
      "\u001b[0;32m/var/folders/x_/2nhckcv12_94jtlx8yl6x16m0000gn/T/ipykernel_98440/3404064220.py\u001b[0m in \u001b[0;36m<module>\u001b[0;34m\u001b[0m\n\u001b[0;32m----> 1\u001b[0;31m \u001b[0mroot\u001b[0m \u001b[0;34m=\u001b[0m \u001b[0mtreeInput\u001b[0m\u001b[0;34m(\u001b[0m\u001b[0;34m)\u001b[0m\u001b[0;34m\u001b[0m\u001b[0;34m\u001b[0m\u001b[0m\n\u001b[0m\u001b[1;32m      2\u001b[0m \u001b[0mprintBTDetailed\u001b[0m\u001b[0;34m(\u001b[0m\u001b[0mroot\u001b[0m\u001b[0;34m)\u001b[0m\u001b[0;34m\u001b[0m\u001b[0;34m\u001b[0m\u001b[0m\n",
      "\u001b[0;32m/var/folders/x_/2nhckcv12_94jtlx8yl6x16m0000gn/T/ipykernel_98440/1659399321.py\u001b[0m in \u001b[0;36mtreeInput\u001b[0;34m()\u001b[0m\n\u001b[1;32m      1\u001b[0m \u001b[0;32mdef\u001b[0m \u001b[0mtreeInput\u001b[0m\u001b[0;34m(\u001b[0m\u001b[0;34m)\u001b[0m\u001b[0;34m:\u001b[0m\u001b[0;34m\u001b[0m\u001b[0;34m\u001b[0m\u001b[0m\n\u001b[0;32m----> 2\u001b[0;31m     \u001b[0mrootData\u001b[0m \u001b[0;34m=\u001b[0m \u001b[0mint\u001b[0m\u001b[0;34m(\u001b[0m\u001b[0minput\u001b[0m\u001b[0;34m(\u001b[0m\u001b[0;34m)\u001b[0m\u001b[0;34m)\u001b[0m\u001b[0;34m\u001b[0m\u001b[0;34m\u001b[0m\u001b[0m\n\u001b[0m\u001b[1;32m      3\u001b[0m     \u001b[0;32mif\u001b[0m \u001b[0mrootData\u001b[0m \u001b[0;34m==\u001b[0m \u001b[0;34m-\u001b[0m\u001b[0;36m1\u001b[0m\u001b[0;34m:\u001b[0m\u001b[0;34m\u001b[0m\u001b[0;34m\u001b[0m\u001b[0m\n\u001b[1;32m      4\u001b[0m         \u001b[0;32mreturn\u001b[0m \u001b[0;32mNone\u001b[0m\u001b[0;34m\u001b[0m\u001b[0;34m\u001b[0m\u001b[0m\n\u001b[1;32m      5\u001b[0m     \u001b[0mroot\u001b[0m \u001b[0;34m=\u001b[0m \u001b[0mBinaryTreeNode\u001b[0m\u001b[0;34m(\u001b[0m\u001b[0mrootData\u001b[0m\u001b[0;34m)\u001b[0m\u001b[0;34m\u001b[0m\u001b[0;34m\u001b[0m\u001b[0m\n",
      "\u001b[0;32m~/opt/anaconda3/lib/python3.9/site-packages/ipykernel/kernelbase.py\u001b[0m in \u001b[0;36mraw_input\u001b[0;34m(self, prompt)\u001b[0m\n\u001b[1;32m   1004\u001b[0m                 \u001b[0;34m\"raw_input was called, but this frontend does not support input requests.\"\u001b[0m\u001b[0;34m\u001b[0m\u001b[0;34m\u001b[0m\u001b[0m\n\u001b[1;32m   1005\u001b[0m             )\n\u001b[0;32m-> 1006\u001b[0;31m         return self._input_request(\n\u001b[0m\u001b[1;32m   1007\u001b[0m             \u001b[0mstr\u001b[0m\u001b[0;34m(\u001b[0m\u001b[0mprompt\u001b[0m\u001b[0;34m)\u001b[0m\u001b[0;34m,\u001b[0m\u001b[0;34m\u001b[0m\u001b[0;34m\u001b[0m\u001b[0m\n\u001b[1;32m   1008\u001b[0m             \u001b[0mself\u001b[0m\u001b[0;34m.\u001b[0m\u001b[0m_parent_ident\u001b[0m\u001b[0;34m[\u001b[0m\u001b[0;34m\"shell\"\u001b[0m\u001b[0;34m]\u001b[0m\u001b[0;34m,\u001b[0m\u001b[0;34m\u001b[0m\u001b[0;34m\u001b[0m\u001b[0m\n",
      "\u001b[0;32m~/opt/anaconda3/lib/python3.9/site-packages/ipykernel/kernelbase.py\u001b[0m in \u001b[0;36m_input_request\u001b[0;34m(self, prompt, ident, parent, password)\u001b[0m\n\u001b[1;32m   1049\u001b[0m             \u001b[0;32mexcept\u001b[0m \u001b[0mKeyboardInterrupt\u001b[0m\u001b[0;34m:\u001b[0m\u001b[0;34m\u001b[0m\u001b[0;34m\u001b[0m\u001b[0m\n\u001b[1;32m   1050\u001b[0m                 \u001b[0;31m# re-raise KeyboardInterrupt, to truncate traceback\u001b[0m\u001b[0;34m\u001b[0m\u001b[0;34m\u001b[0m\u001b[0m\n\u001b[0;32m-> 1051\u001b[0;31m                 \u001b[0;32mraise\u001b[0m \u001b[0mKeyboardInterrupt\u001b[0m\u001b[0;34m(\u001b[0m\u001b[0;34m\"Interrupted by user\"\u001b[0m\u001b[0;34m)\u001b[0m \u001b[0;32mfrom\u001b[0m \u001b[0;32mNone\u001b[0m\u001b[0;34m\u001b[0m\u001b[0;34m\u001b[0m\u001b[0m\n\u001b[0m\u001b[1;32m   1052\u001b[0m             \u001b[0;32mexcept\u001b[0m \u001b[0mException\u001b[0m\u001b[0;34m:\u001b[0m\u001b[0;34m\u001b[0m\u001b[0;34m\u001b[0m\u001b[0m\n\u001b[1;32m   1053\u001b[0m                 \u001b[0mself\u001b[0m\u001b[0;34m.\u001b[0m\u001b[0mlog\u001b[0m\u001b[0;34m.\u001b[0m\u001b[0mwarning\u001b[0m\u001b[0;34m(\u001b[0m\u001b[0;34m\"Invalid Message:\"\u001b[0m\u001b[0;34m,\u001b[0m \u001b[0mexc_info\u001b[0m\u001b[0;34m=\u001b[0m\u001b[0;32mTrue\u001b[0m\u001b[0;34m)\u001b[0m\u001b[0;34m\u001b[0m\u001b[0;34m\u001b[0m\u001b[0m\n",
      "\u001b[0;31mKeyboardInterrupt\u001b[0m: Interrupted by user"
     ]
    }
   ],
   "source": [
    "root = treeInput()\n",
    "printBTDetailed(root)"
   ]
  },
  {
   "cell_type": "code",
   "execution_count": 44,
   "id": "ca81e276",
   "metadata": {},
   "outputs": [
    {
     "data": {
      "text/plain": [
       "6"
      ]
     },
     "execution_count": 44,
     "metadata": {},
     "output_type": "execute_result"
    }
   ],
   "source": [
    "numOfNodes(root)"
   ]
  },
  {
   "cell_type": "code",
   "execution_count": 56,
   "id": "0252a104",
   "metadata": {},
   "outputs": [
    {
     "data": {
      "text/plain": [
       "7"
      ]
     },
     "execution_count": 56,
     "metadata": {},
     "output_type": "execute_result"
    }
   ],
   "source": [
    "largestNode(root)"
   ]
  },
  {
   "cell_type": "code",
   "execution_count": 60,
   "id": "0a5f1da0",
   "metadata": {},
   "outputs": [
    {
     "data": {
      "text/plain": [
       "3"
      ]
     },
     "execution_count": 60,
     "metadata": {},
     "output_type": "execute_result"
    }
   ],
   "source": [
    "numberOfLeafNodes(root)"
   ]
  },
  {
   "cell_type": "code",
   "execution_count": null,
   "id": "6837e8ee",
   "metadata": {},
   "outputs": [],
   "source": []
  }
 ],
 "metadata": {
  "kernelspec": {
   "display_name": "Python 3 (ipykernel)",
   "language": "python",
   "name": "python3"
  },
  "language_info": {
   "codemirror_mode": {
    "name": "ipython",
    "version": 3
   },
   "file_extension": ".py",
   "mimetype": "text/x-python",
   "name": "python",
   "nbconvert_exporter": "python",
   "pygments_lexer": "ipython3",
   "version": "3.9.7"
  }
 },
 "nbformat": 4,
 "nbformat_minor": 5
}
