{
 "cells": [
  {
   "cell_type": "code",
   "execution_count": 1,
   "id": "2c690ced",
   "metadata": {},
   "outputs": [],
   "source": [
    "# real life scenarios -> 1. file structure  -> root folder has directories and files(leaf nodes)\n",
    "# 2. Heirarichal structure of a company\n",
    "# trees have a beautiful recursive structure\n",
    "# binary tree -> each node having 0,1 or 2 children"
   ]
  },
  {
   "cell_type": "code",
   "execution_count": null,
   "id": "3bd15960",
   "metadata": {},
   "outputs": [],
   "source": [
    "class BinaryTreeNode:\n",
    "    def __init__(self,data):\n",
    "        self.data = data\n",
    "        self.left = None\n",
    "        self.right = None\n",
    "        \n",
    "class BinaryTree:\n",
    "    def __init__(self):\n",
    "        self.__root = None\n",
    "    def.ins"
   ]
  }
 ],
 "metadata": {
  "kernelspec": {
   "display_name": "Python 3 (ipykernel)",
   "language": "python",
   "name": "python3"
  },
  "language_info": {
   "codemirror_mode": {
    "name": "ipython",
    "version": 3
   },
   "file_extension": ".py",
   "mimetype": "text/x-python",
   "name": "python",
   "nbconvert_exporter": "python",
   "pygments_lexer": "ipython3",
   "version": "3.9.7"
  }
 },
 "nbformat": 4,
 "nbformat_minor": 5
}
