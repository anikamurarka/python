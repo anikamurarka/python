{
 "cells": [
  {
   "cell_type": "code",
   "execution_count": null,
   "id": "f68c0987",
   "metadata": {},
   "outputs": [],
   "source": [
    "def reverseStack(inputStack, extraStack) :\n",
    "\t#Your code goes here\n",
    "    if len(inputStack) == 0:\n",
    "        return \n",
    "    while len(inputStack):\n",
    "        extraStack.append(inputStack.pop())\n",
    "    ele = extraStack.pop()\n",
    "    while len(extraStack):\n",
    "        inputStack.append(extraStack.pop())\n",
    "    reverseStack(inputStack,extraStack)\n",
    "    inputStack.append(ele)\n",
    "    return"
   ]
  }
 ],
 "metadata": {
  "kernelspec": {
   "display_name": "Python 3 (ipykernel)",
   "language": "python",
   "name": "python3"
  },
  "language_info": {
   "codemirror_mode": {
    "name": "ipython",
    "version": 3
   },
   "file_extension": ".py",
   "mimetype": "text/x-python",
   "name": "python",
   "nbconvert_exporter": "python",
   "pygments_lexer": "ipython3",
   "version": "3.9.7"
  }
 },
 "nbformat": 4,
 "nbformat_minor": 5
}
