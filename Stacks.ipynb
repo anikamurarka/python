{
 "cells": [
  {
   "cell_type": "code",
   "execution_count": 1,
   "id": "e8b2ca61",
   "metadata": {},
   "outputs": [],
   "source": [
    "# stack is abtract datatype\n",
    "# push(insert), pop(delete), top(return topmost), size, isEmpty\n",
    "#  recusrsion stack : get stored in inbuilt stack memory->  LIFO -> last called first returned "
   ]
  },
  {
   "cell_type": "code",
   "execution_count": 73,
   "id": "5538bd64",
   "metadata": {},
   "outputs": [],
   "source": [
    "#  implementing of stack using arrays\n",
    "class stack:\n",
    "    def __init__(self):\n",
    "        self.__data = [] #using private variable data\n",
    "    def push(self,val): # O(1)\n",
    "        self.__data.append(val) \n",
    "        return self.__data\n",
    "    def pop(self): # pop should return the element that has been poped O(1)\n",
    "        if self.isEmpty():\n",
    "            return\n",
    "        return self.__data.pop()\n",
    "    def isEmpty(self): # O(1)\n",
    "        return (not len(self.__data)>0)\n",
    "    def size(self):  # O(1)\n",
    "        return len(self.__data)\n",
    "    def top(self): # O(1)\n",
    "        if self.isEmpty():\n",
    "            return\n",
    "        return self.__data[len(self.__data)-1]"
   ]
  },
  {
   "cell_type": "code",
   "execution_count": 74,
   "id": "0539a60f",
   "metadata": {},
   "outputs": [],
   "source": [
    "a = stack()"
   ]
  },
  {
   "cell_type": "code",
   "execution_count": 75,
   "id": "12d4218a",
   "metadata": {},
   "outputs": [
    {
     "data": {
      "text/plain": [
       "[1, 2, 3]"
      ]
     },
     "execution_count": 75,
     "metadata": {},
     "output_type": "execute_result"
    }
   ],
   "source": [
    "a.push(1)\n",
    "a.push(2)\n",
    "a.push(3)"
   ]
  },
  {
   "cell_type": "code",
   "execution_count": 76,
   "id": "1270d6f2",
   "metadata": {},
   "outputs": [
    {
     "data": {
      "text/plain": [
       "3"
      ]
     },
     "execution_count": 76,
     "metadata": {},
     "output_type": "execute_result"
    }
   ],
   "source": [
    "a.pop()"
   ]
  },
  {
   "cell_type": "code",
   "execution_count": 77,
   "id": "d4641a4a",
   "metadata": {},
   "outputs": [
    {
     "data": {
      "text/plain": [
       "2"
      ]
     },
     "execution_count": 77,
     "metadata": {},
     "output_type": "execute_result"
    }
   ],
   "source": [
    "a.top()"
   ]
  },
  {
   "cell_type": "code",
   "execution_count": 78,
   "id": "a4fa2585",
   "metadata": {},
   "outputs": [
    {
     "data": {
      "text/plain": [
       "2"
      ]
     },
     "execution_count": 78,
     "metadata": {},
     "output_type": "execute_result"
    }
   ],
   "source": [
    "a.size()"
   ]
  },
  {
   "cell_type": "code",
   "execution_count": 79,
   "id": "c13b2d87",
   "metadata": {},
   "outputs": [
    {
     "data": {
      "text/plain": [
       "False"
      ]
     },
     "execution_count": 79,
     "metadata": {},
     "output_type": "execute_result"
    }
   ],
   "source": [
    "a.isEmpty()"
   ]
  },
  {
   "cell_type": "code",
   "execution_count": 80,
   "id": "196c042e",
   "metadata": {},
   "outputs": [
    {
     "data": {
      "text/plain": [
       "2"
      ]
     },
     "execution_count": 80,
     "metadata": {},
     "output_type": "execute_result"
    }
   ],
   "source": [
    "a.pop()"
   ]
  },
  {
   "cell_type": "code",
   "execution_count": 81,
   "id": "709ddd85",
   "metadata": {},
   "outputs": [
    {
     "data": {
      "text/plain": [
       "1"
      ]
     },
     "execution_count": 81,
     "metadata": {},
     "output_type": "execute_result"
    }
   ],
   "source": [
    "a.pop()"
   ]
  },
  {
   "cell_type": "code",
   "execution_count": 82,
   "id": "a853b777",
   "metadata": {},
   "outputs": [
    {
     "data": {
      "text/plain": [
       "True"
      ]
     },
     "execution_count": 82,
     "metadata": {},
     "output_type": "execute_result"
    }
   ],
   "source": [
    "a.isEmpty()"
   ]
  },
  {
   "cell_type": "code",
   "execution_count": 83,
   "id": "30edacda",
   "metadata": {},
   "outputs": [],
   "source": [
    "a.pop()"
   ]
  },
  {
   "cell_type": "code",
   "execution_count": 84,
   "id": "a19ab657",
   "metadata": {},
   "outputs": [],
   "source": [
    "a.top()"
   ]
  },
  {
   "cell_type": "code",
   "execution_count": 29,
   "id": "145701c5",
   "metadata": {},
   "outputs": [],
   "source": [
    "class Node:\n",
    "    def __init__ (self, data):\n",
    "        self.data = data\n",
    "        self.next = None\n",
    "class stackLL:\n",
    "        def __init__(self):\n",
    "        self.__head = None\n",
    "\n",
    "\n",
    "\n",
    "\n",
    "    '''----------------- Public Functions of Stack -----------------'''\n",
    "\n",
    "\n",
    "    def getSize(self) :\n",
    "        temp = self.__head\n",
    "        count = 0\n",
    "        while temp:\n",
    "            temp = temp.next\n",
    "            count = count+1\n",
    "        return count\n",
    "        #Implement the getSize() function\n",
    "\n",
    "\n",
    "\n",
    "    \n",
    "        #Implement the isEmpty() function\n",
    "\n",
    "\n",
    "\n",
    "    def push(self, data) :\n",
    "        newNode = Node(data)\n",
    "        if self.__head is None:\n",
    "            self.__head = newNode\n",
    "            # printLL()\n",
    "            return newNode\n",
    "        newNode.next = self.__head\n",
    "        self.__head = newNode\n",
    "        # printLL()\n",
    "        return self.__head\n",
    "        #Implement the push(element) function\n",
    "\n",
    "\n",
    "\n",
    "    def pop(self) :\n",
    "        if self.isEmpty():\n",
    "            return -1\n",
    "        topEle = self.__head.data\n",
    "        self.__head = self.__head.next\n",
    "        # printLL()\n",
    "        return topEle\n",
    "        #Implement the pop() function\n",
    "\n",
    "\n",
    "\n",
    "    def top(self) :\n",
    "        if self.isEmpty():\n",
    "            return -1\n",
    "        return self.__head.data\n",
    "        #Implement the top() function\n",
    "    def isEmpty(self) :\n",
    "        return self.__head is None"
   ]
  },
  {
   "cell_type": "code",
   "execution_count": 30,
   "id": "2b1bc464",
   "metadata": {},
   "outputs": [],
   "source": [
    "a = stackLL()"
   ]
  },
  {
   "cell_type": "code",
   "execution_count": 31,
   "id": "032b0b53",
   "metadata": {},
   "outputs": [
    {
     "ename": "NameError",
     "evalue": "name 'printLL' is not defined",
     "output_type": "error",
     "traceback": [
      "\u001b[0;31m---------------------------------------------------------------------------\u001b[0m",
      "\u001b[0;31mNameError\u001b[0m                                 Traceback (most recent call last)",
      "\u001b[0;32m/var/folders/x_/2nhckcv12_94jtlx8yl6x16m0000gn/T/ipykernel_92627/167861161.py\u001b[0m in \u001b[0;36m<module>\u001b[0;34m\u001b[0m\n\u001b[0;32m----> 1\u001b[0;31m \u001b[0ma\u001b[0m\u001b[0;34m.\u001b[0m\u001b[0mpush\u001b[0m\u001b[0;34m(\u001b[0m\u001b[0;36m2\u001b[0m\u001b[0;34m)\u001b[0m\u001b[0;34m\u001b[0m\u001b[0;34m\u001b[0m\u001b[0m\n\u001b[0m",
      "\u001b[0;32m/var/folders/x_/2nhckcv12_94jtlx8yl6x16m0000gn/T/ipykernel_92627/555814029.py\u001b[0m in \u001b[0;36mpush\u001b[0;34m(self, data)\u001b[0m\n\u001b[1;32m     19\u001b[0m         \u001b[0;32mif\u001b[0m \u001b[0mself\u001b[0m\u001b[0;34m.\u001b[0m\u001b[0m__head\u001b[0m \u001b[0;32mis\u001b[0m \u001b[0;32mNone\u001b[0m\u001b[0;34m:\u001b[0m\u001b[0;34m\u001b[0m\u001b[0;34m\u001b[0m\u001b[0m\n\u001b[1;32m     20\u001b[0m             \u001b[0mself\u001b[0m\u001b[0;34m.\u001b[0m\u001b[0m__head\u001b[0m \u001b[0;34m=\u001b[0m \u001b[0mnewNode\u001b[0m\u001b[0;34m\u001b[0m\u001b[0;34m\u001b[0m\u001b[0m\n\u001b[0;32m---> 21\u001b[0;31m             \u001b[0mprintLL\u001b[0m\u001b[0;34m(\u001b[0m\u001b[0;34m)\u001b[0m\u001b[0;34m\u001b[0m\u001b[0;34m\u001b[0m\u001b[0m\n\u001b[0m\u001b[1;32m     22\u001b[0m             \u001b[0;32mreturn\u001b[0m \u001b[0mnewNode\u001b[0m\u001b[0;34m\u001b[0m\u001b[0;34m\u001b[0m\u001b[0m\n\u001b[1;32m     23\u001b[0m         \u001b[0mnewNode\u001b[0m\u001b[0;34m.\u001b[0m\u001b[0mnext\u001b[0m \u001b[0;34m=\u001b[0m \u001b[0mself\u001b[0m\u001b[0;34m.\u001b[0m\u001b[0m__head\u001b[0m\u001b[0;34m\u001b[0m\u001b[0;34m\u001b[0m\u001b[0m\n",
      "\u001b[0;31mNameError\u001b[0m: name 'printLL' is not defined"
     ]
    }
   ],
   "source": [
    "a.push(2)"
   ]
  },
  {
   "cell_type": "code",
   "execution_count": 25,
   "id": "b2d47de5",
   "metadata": {},
   "outputs": [
    {
     "ename": "NameError",
     "evalue": "name 'printLL' is not defined",
     "output_type": "error",
     "traceback": [
      "\u001b[0;31m---------------------------------------------------------------------------\u001b[0m",
      "\u001b[0;31mNameError\u001b[0m                                 Traceback (most recent call last)",
      "\u001b[0;32m/var/folders/x_/2nhckcv12_94jtlx8yl6x16m0000gn/T/ipykernel_92627/2925006673.py\u001b[0m in \u001b[0;36m<module>\u001b[0;34m\u001b[0m\n\u001b[0;32m----> 1\u001b[0;31m \u001b[0ma\u001b[0m\u001b[0;34m.\u001b[0m\u001b[0mpush\u001b[0m\u001b[0;34m(\u001b[0m\u001b[0;36m3\u001b[0m\u001b[0;34m)\u001b[0m\u001b[0;34m\u001b[0m\u001b[0;34m\u001b[0m\u001b[0m\n\u001b[0m",
      "\u001b[0;32m/var/folders/x_/2nhckcv12_94jtlx8yl6x16m0000gn/T/ipykernel_92627/3687031462.py\u001b[0m in \u001b[0;36mpush\u001b[0;34m(self, data)\u001b[0m\n\u001b[1;32m     22\u001b[0m         \u001b[0mnewNode\u001b[0m\u001b[0;34m.\u001b[0m\u001b[0mnext\u001b[0m \u001b[0;34m=\u001b[0m \u001b[0mself\u001b[0m\u001b[0;34m.\u001b[0m\u001b[0m__head\u001b[0m\u001b[0;34m\u001b[0m\u001b[0;34m\u001b[0m\u001b[0m\n\u001b[1;32m     23\u001b[0m         \u001b[0mself\u001b[0m\u001b[0;34m.\u001b[0m\u001b[0m__head\u001b[0m \u001b[0;34m=\u001b[0m \u001b[0mnewNode\u001b[0m\u001b[0;34m\u001b[0m\u001b[0;34m\u001b[0m\u001b[0m\n\u001b[0;32m---> 24\u001b[0;31m         \u001b[0mprintLL\u001b[0m\u001b[0;34m(\u001b[0m\u001b[0;34m)\u001b[0m\u001b[0;34m\u001b[0m\u001b[0;34m\u001b[0m\u001b[0m\n\u001b[0m\u001b[1;32m     25\u001b[0m         \u001b[0;32mreturn\u001b[0m \u001b[0mself\u001b[0m\u001b[0;34m.\u001b[0m\u001b[0m__head\u001b[0m\u001b[0;34m\u001b[0m\u001b[0;34m\u001b[0m\u001b[0m\n\u001b[1;32m     26\u001b[0m \u001b[0;34m\u001b[0m\u001b[0m\n",
      "\u001b[0;31mNameError\u001b[0m: name 'printLL' is not defined"
     ]
    }
   ],
   "source": [
    "a.push(3)"
   ]
  },
  {
   "cell_type": "code",
   "execution_count": null,
   "id": "1f610d36",
   "metadata": {},
   "outputs": [],
   "source": []
  },
  {
   "cell_type": "code",
   "execution_count": null,
   "id": "bb4b29c7",
   "metadata": {},
   "outputs": [],
   "source": []
  }
 ],
 "metadata": {
  "kernelspec": {
   "display_name": "Python 3 (ipykernel)",
   "language": "python",
   "name": "python3"
  },
  "language_info": {
   "codemirror_mode": {
    "name": "ipython",
    "version": 3
   },
   "file_extension": ".py",
   "mimetype": "text/x-python",
   "name": "python",
   "nbconvert_exporter": "python",
   "pygments_lexer": "ipython3",
   "version": "3.9.7"
  }
 },
 "nbformat": 4,
 "nbformat_minor": 5
}
