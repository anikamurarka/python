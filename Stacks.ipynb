{
 "cells": [
  {
   "cell_type": "code",
   "execution_count": 1,
   "id": "49b1503c",
   "metadata": {},
   "outputs": [],
   "source": [
    "# stack is abtract datatype\n",
    "# push(insert), pop(delete), top(return topmost), size, isEmpty\n",
    "#  recusrsion stack : get stored in inbuilt stack memory->  LIFO -> last called first returned "
   ]
  },
  {
   "cell_type": "code",
   "execution_count": 73,
   "id": "15e198b9",
   "metadata": {},
   "outputs": [],
   "source": [
    "#  implementing of stack using recursion\n",
    "class stack:\n",
    "    def __init__(self):\n",
    "        self.__data = [] #using private variable data\n",
    "    def push(self,val):\n",
    "        self.__data.append(val)\n",
    "        return self.__data\n",
    "    def pop(self): # pop should return the element that has been poped\n",
    "        if self.isEmpty():\n",
    "            return\n",
    "        return self.__data.pop()\n",
    "    def isEmpty(self):\n",
    "        return (not len(self.__data)>0)\n",
    "    def size(self):\n",
    "        return len(self.__data)\n",
    "    def top(self):\n",
    "        if self.isEmpty():\n",
    "            return\n",
    "        return self.__data[len(self.__data)-1]"
   ]
  },
  {
   "cell_type": "code",
   "execution_count": 74,
   "id": "bf90ac27",
   "metadata": {},
   "outputs": [],
   "source": [
    "a = stack()"
   ]
  },
  {
   "cell_type": "code",
   "execution_count": 75,
   "id": "5b6f49aa",
   "metadata": {},
   "outputs": [
    {
     "data": {
      "text/plain": [
       "[1, 2, 3]"
      ]
     },
     "execution_count": 75,
     "metadata": {},
     "output_type": "execute_result"
    }
   ],
   "source": [
    "a.push(1)\n",
    "a.push(2)\n",
    "a.push(3)"
   ]
  },
  {
   "cell_type": "code",
   "execution_count": 76,
   "id": "1243d80d",
   "metadata": {},
   "outputs": [
    {
     "data": {
      "text/plain": [
       "3"
      ]
     },
     "execution_count": 76,
     "metadata": {},
     "output_type": "execute_result"
    }
   ],
   "source": [
    "a.pop()"
   ]
  },
  {
   "cell_type": "code",
   "execution_count": 77,
   "id": "49d49464",
   "metadata": {},
   "outputs": [
    {
     "data": {
      "text/plain": [
       "2"
      ]
     },
     "execution_count": 77,
     "metadata": {},
     "output_type": "execute_result"
    }
   ],
   "source": [
    "a.top()"
   ]
  },
  {
   "cell_type": "code",
   "execution_count": 78,
   "id": "60f4533b",
   "metadata": {},
   "outputs": [
    {
     "data": {
      "text/plain": [
       "2"
      ]
     },
     "execution_count": 78,
     "metadata": {},
     "output_type": "execute_result"
    }
   ],
   "source": [
    "a.size()"
   ]
  },
  {
   "cell_type": "code",
   "execution_count": 79,
   "id": "317159f3",
   "metadata": {},
   "outputs": [
    {
     "data": {
      "text/plain": [
       "False"
      ]
     },
     "execution_count": 79,
     "metadata": {},
     "output_type": "execute_result"
    }
   ],
   "source": [
    "a.isEmpty()"
   ]
  },
  {
   "cell_type": "code",
   "execution_count": 80,
   "id": "d57dad73",
   "metadata": {},
   "outputs": [
    {
     "data": {
      "text/plain": [
       "2"
      ]
     },
     "execution_count": 80,
     "metadata": {},
     "output_type": "execute_result"
    }
   ],
   "source": [
    "a.pop()"
   ]
  },
  {
   "cell_type": "code",
   "execution_count": 81,
   "id": "13e1bbde",
   "metadata": {},
   "outputs": [
    {
     "data": {
      "text/plain": [
       "1"
      ]
     },
     "execution_count": 81,
     "metadata": {},
     "output_type": "execute_result"
    }
   ],
   "source": [
    "a.pop()"
   ]
  },
  {
   "cell_type": "code",
   "execution_count": 82,
   "id": "1aa1bcc6",
   "metadata": {},
   "outputs": [
    {
     "data": {
      "text/plain": [
       "True"
      ]
     },
     "execution_count": 82,
     "metadata": {},
     "output_type": "execute_result"
    }
   ],
   "source": [
    "a.isEmpty()"
   ]
  },
  {
   "cell_type": "code",
   "execution_count": 83,
   "id": "1b17a577",
   "metadata": {},
   "outputs": [],
   "source": [
    "a.pop()"
   ]
  },
  {
   "cell_type": "code",
   "execution_count": 84,
   "id": "480c88dd",
   "metadata": {},
   "outputs": [],
   "source": [
    "a.top()"
   ]
  },
  {
   "cell_type": "code",
   "execution_count": null,
   "id": "2c18e4cb",
   "metadata": {},
   "outputs": [],
   "source": []
  },
  {
   "cell_type": "code",
   "execution_count": null,
   "id": "a26deec6",
   "metadata": {},
   "outputs": [],
   "source": []
  }
 ],
 "metadata": {
  "kernelspec": {
   "display_name": "Python 3 (ipykernel)",
   "language": "python",
   "name": "python3"
  },
  "language_info": {
   "codemirror_mode": {
    "name": "ipython",
    "version": 3
   },
   "file_extension": ".py",
   "mimetype": "text/x-python",
   "name": "python",
   "nbconvert_exporter": "python",
   "pygments_lexer": "ipython3",
   "version": "3.9.7"
  }
 },
 "nbformat": 4,
 "nbformat_minor": 5
}
