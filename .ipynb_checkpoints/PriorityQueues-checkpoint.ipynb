{
 "cells": [
  {
   "cell_type": "code",
   "execution_count": 1,
   "id": "6ce65621",
   "metadata": {},
   "outputs": [],
   "source": [
    "#used to solve the problems where priority factor is associated \n",
    "# 2 things -> value and priority\n",
    "# 2 varitaions-> min-pq-> element with least priority factor will come first and max-pq -> element with maxpriority factor will come first\n",
    "# functions -> 1. insert : element and its priority will be inserted\n",
    "# 2. getmin/getmax : donot pop(), only get top()\n",
    "# 3. removeMin/removeMax : pop()"
   ]
  },
  {
   "cell_type": "code",
   "execution_count": 1,
   "id": "f11f71d3",
   "metadata": {},
   "outputs": [],
   "source": [
    "# ways to implememt priority queue\n",
    "# after heap, balanced bst is the best implementation\n",
    "# \n",
    "class PriotiyQueueNode:\n",
    "    def __init__(self,value,priority):\n",
    "        self.value = value\n",
    "        self.priority = priority\n",
    "\n",
    "class Priority:\n",
    "    def __init__(self):\n",
    "        self.__pq = [] # we will have a list of pairs\n",
    "    \n",
    "    def insert(self,value,priority):\n",
    "        newNode = PriotiyQueueNode(value, priority)\n",
    "        self.__pq.append(newNode)\n",
    "        ci = len(self.__pq)-1\n",
    "        pi = (ci-1)//2\n",
    "        while (pi >=0) and pi is not ci and  (self.__pq[pi].priority > self.__pq[ci].priority):\n",
    "            temp = self.__pq[pi]\n",
    "            self.__pq[pi] = self.__pq[ci]\n",
    "            self.__pq[ci] = temp\n",
    "            ci = pi\n",
    "            pi = (ci-1)/2\n",
    "        return self.__pq\n",
    "    \n",
    "    \n",
    "    def remove(self):\n",
    "        if self.__pq.isEmpty():\n",
    "            return None\n",
    "        temp = self.__pq[0]\n",
    "        self.__pq[0] = self.__pq[len(self.__pq)-1]\n",
    "        self.__pq[len(self.__pq)-1] = temp\n",
    "        self.__pq.pop()\n",
    "        \n",
    "        pi = 0\n",
    "        ci1 = 2*pi +1\n",
    "        ci2 = 2*pi +2\n",
    "        minChildInd = ci1\n",
    "        if ci1.priority > ci2.priority:\n",
    "            minChildInd = ci2\n",
    "        while minChildInd<len(self.__pq) and self.__pq[pi].priority>self.__pq[minChildInd].priority:\n",
    "            temp = self.__pq[pi]\n",
    "            self.__pq[pi] = self.__pq[minChildInd]\n",
    "            self.__pq[minChildInd] = temp\n",
    "            pi = minChildInd\n",
    "            ci1 = 2*pi +1\n",
    "            ci2 = 2*pi +2\n",
    "            minChildInd = ci1\n",
    "            if ci1.priority > ci2.priority:\n",
    "                minChildInd = ci2\n",
    "        return self.__pq\n",
    "    \n",
    "    def getMin(self):\n",
    "        if self.isEmpty():\n",
    "            return None\n",
    "        return self.__pq[0].value\n",
    "    def getSize(self):\n",
    "        return len(self.__pq)\n",
    "    def isEmpty(self):\n",
    "        return len(self.__pq) == 0\n",
    "    \n",
    "    "
   ]
  },
  {
   "cell_type": "code",
   "execution_count": 3,
   "id": "5d702edf",
   "metadata": {},
   "outputs": [
    {
     "data": {
      "text/plain": [
       "[<__main__.PriotiyQueueNode at 0x7fd6626483a0>]"
      ]
     },
     "execution_count": 3,
     "metadata": {},
     "output_type": "execute_result"
    }
   ],
   "source": [
    "a = Priority()\n",
    "a.insert(1,10)"
   ]
  },
  {
   "cell_type": "code",
   "execution_count": null,
   "id": "3eede921",
   "metadata": {},
   "outputs": [],
   "source": []
  },
  {
   "cell_type": "code",
   "execution_count": null,
   "id": "b6d44079",
   "metadata": {},
   "outputs": [],
   "source": []
  }
 ],
 "metadata": {
  "kernelspec": {
   "display_name": "Python 3 (ipykernel)",
   "language": "python",
   "name": "python3"
  },
  "language_info": {
   "codemirror_mode": {
    "name": "ipython",
    "version": 3
   },
   "file_extension": ".py",
   "mimetype": "text/x-python",
   "name": "python",
   "nbconvert_exporter": "python",
   "pygments_lexer": "ipython3",
   "version": "3.9.7"
  }
 },
 "nbformat": 4,
 "nbformat_minor": 5
}
