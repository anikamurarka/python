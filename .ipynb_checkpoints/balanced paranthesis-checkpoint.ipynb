{
 "cells": [
  {
   "cell_type": "code",
   "execution_count": null,
   "id": "5b4227e0",
   "metadata": {},
   "outputs": [],
   "source": [
    "def isBalanced(expression) :\n",
    "    s = []\n",
    "    for ele in expression:\n",
    "        if ele is '(':\n",
    "        \ts.append(ele)\n",
    "        elif ele is ')':\n",
    "            if len(s) == 0:\n",
    "                return False\n",
    "            if s[len(s)-1] is '(':\n",
    "                s.pop()\n",
    "            else:\n",
    "            \treturn False\n",
    "    # if s.empty():\n",
    "    #     return True\n",
    "    # else\n",
    "    # \treturn False\n",
    "\t#Your code goes here\n",
    "    return len(s) == 0"
   ]
  }
 ],
 "metadata": {
  "kernelspec": {
   "display_name": "Python 3 (ipykernel)",
   "language": "python",
   "name": "python3"
  },
  "language_info": {
   "codemirror_mode": {
    "name": "ipython",
    "version": 3
   },
   "file_extension": ".py",
   "mimetype": "text/x-python",
   "name": "python",
   "nbconvert_exporter": "python",
   "pygments_lexer": "ipython3",
   "version": "3.9.7"
  }
 },
 "nbformat": 4,
 "nbformat_minor": 5
}
