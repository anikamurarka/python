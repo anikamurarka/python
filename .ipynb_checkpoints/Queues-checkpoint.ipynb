{
 "cells": [
  {
   "cell_type": "code",
   "execution_count": 1,
   "id": "11f8df24",
   "metadata": {},
   "outputs": [],
   "source": [
    "# FIFO\n",
    "# enqueue -> insert\n",
    "# dequeue  -> remove\n",
    "# size\n",
    "# isEmpty\n",
    "# front\n",
    "# rear end -> element is inserted and front ends-> element is removed\n"
   ]
  },
  {
   "cell_type": "code",
   "execution_count": 2,
   "id": "ded80acf",
   "metadata": {},
   "outputs": [
    {
     "ename": "IndentationError",
     "evalue": "expected an indented block (1222261825.py, line 6)",
     "output_type": "error",
     "traceback": [
      "\u001b[0;36m  File \u001b[0;32m\"/var/folders/x_/2nhckcv12_94jtlx8yl6x16m0000gn/T/ipykernel_23933/1222261825.py\"\u001b[0;36m, line \u001b[0;32m6\u001b[0m\n\u001b[0;31m    def dequeue(self):\u001b[0m\n\u001b[0m    ^\u001b[0m\n\u001b[0;31mIndentationError\u001b[0m\u001b[0;31m:\u001b[0m expected an indented block\n"
     ]
    }
   ],
   "source": [
    "# implementation of queues using array\n",
    "# class queue:\n",
    "#     def __init__ (self):\n",
    "#         self.__data =[]\n",
    "#     def enqueue(self,data):\n",
    "#     def dequeue(self):\n",
    "#     def top(self):\n",
    "#     def isEmpty(self):"
   ]
  },
  {
   "cell_type": "code",
   "execution_count": 3,
   "id": "cda70724",
   "metadata": {},
   "outputs": [],
   "source": [
    "def reverseQueue(inputQueue) :\n",
    "    if inputQueue.qsize() <2:\n",
    "        return\n",
    "    temp = inputQueue.get()\n",
    "    reverseQueue(inputQueue)\n",
    "    inputQueue.put(temp)\n",
    "    return"
   ]
  },
  {
   "cell_type": "code",
   "execution_count": null,
   "id": "a75167c9",
   "metadata": {},
   "outputs": [],
   "source": []
  }
 ],
 "metadata": {
  "kernelspec": {
   "display_name": "Python 3 (ipykernel)",
   "language": "python",
   "name": "python3"
  },
  "language_info": {
   "codemirror_mode": {
    "name": "ipython",
    "version": 3
   },
   "file_extension": ".py",
   "mimetype": "text/x-python",
   "name": "python",
   "nbconvert_exporter": "python",
   "pygments_lexer": "ipython3",
   "version": "3.9.7"
  }
 },
 "nbformat": 4,
 "nbformat_minor": 5
}
