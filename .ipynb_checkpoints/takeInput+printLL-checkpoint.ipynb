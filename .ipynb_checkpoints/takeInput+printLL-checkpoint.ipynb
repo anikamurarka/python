{
 "cells": [
  {
   "cell_type": "code",
   "execution_count": 88,
   "id": "bd8cd186",
   "metadata": {},
   "outputs": [],
   "source": [
    "class Node:\n",
    "    def __init__(self, data):\n",
    "        self.data = data\n",
    "        self.next = None"
   ]
  },
  {
   "cell_type": "code",
   "execution_count": 89,
   "id": "eec6e7b0",
   "metadata": {},
   "outputs": [],
   "source": [
    "def takeInput():\n",
    "    # take input in form of strings and then seperate in via space delimiter\n",
    "    inputList = [int(i) for i in input().split(\" \")]\n",
    "    return inputList"
   ]
  },
  {
   "cell_type": "code",
   "execution_count": 90,
   "id": "1eb1cd5e",
   "metadata": {},
   "outputs": [],
   "source": [
    "def makeList(inputList):\n",
    "    head = None\n",
    "    tempHead = head\n",
    "    for i in range(len(inputList)):\n",
    "        if inputList[i] != -1:\n",
    "            newNode = Node(inputList[i])\n",
    "            if head is None:\n",
    "                head = newNode\n",
    "                tempHead = head\n",
    "            else:\n",
    "                tempHead.next = newNode\n",
    "                tempHead = tempHead.next\n",
    "    return head"
   ]
  },
  {
   "cell_type": "code",
   "execution_count": 91,
   "id": "739b9b5a",
   "metadata": {},
   "outputs": [],
   "source": [
    "def length(head) :\n",
    "    lengthLL = 0\n",
    "    while head != None:\n",
    "        lengthLL = lengthLL + 1\n",
    "        head = head.next\n",
    "    return lengthLL"
   ]
  },
  {
   "cell_type": "code",
   "execution_count": 92,
   "id": "a8fce372",
   "metadata": {},
   "outputs": [],
   "source": [
    "def printLL(head):\n",
    "    if head == None:\n",
    "        return\n",
    "    while head != None:\n",
    "        print(str(head.data) + \"->\", end=\"\")\n",
    "        head = head.next\n",
    "    print(\"None\")\n",
    "    return"
   ]
  },
  {
   "cell_type": "code",
   "execution_count": 160,
   "id": "a59ec303",
   "metadata": {},
   "outputs": [
    {
     "name": "stdout",
     "output_type": "stream",
     "text": [
      "1 2 3 4 5 -1\n"
     ]
    }
   ],
   "source": [
    "head = takeInput()"
   ]
  },
  {
   "cell_type": "code",
   "execution_count": 161,
   "id": "d91d68f2",
   "metadata": {},
   "outputs": [],
   "source": [
    "head = makeList(head)"
   ]
  },
  {
   "cell_type": "code",
   "execution_count": 162,
   "id": "4c6b8b44",
   "metadata": {},
   "outputs": [
    {
     "name": "stdout",
     "output_type": "stream",
     "text": [
      "1->2->3->4->5->None\n"
     ]
    }
   ],
   "source": [
    "printLL(head)"
   ]
  },
  {
   "cell_type": "code",
   "execution_count": 163,
   "id": "e529dd1e",
   "metadata": {},
   "outputs": [
    {
     "name": "stdout",
     "output_type": "stream",
     "text": [
      "5\n"
     ]
    }
   ],
   "source": [
    "print(length(head))"
   ]
  },
  {
   "cell_type": "code",
   "execution_count": 164,
   "id": "1e2d018f",
   "metadata": {},
   "outputs": [],
   "source": [
    "def printIthNode(head, i):\n",
    "    count = 0\n",
    "    while head != None and count !=i:\n",
    "        head = head.next\n",
    "        count = count + 1\n",
    "    if head is None:\n",
    "        return\n",
    "    print(head.data)\n",
    "    return"
   ]
  },
  {
   "cell_type": "code",
   "execution_count": 182,
   "id": "c8833a15",
   "metadata": {},
   "outputs": [],
   "source": [
    "def insertIthNode(head,i,data):\n",
    "    if i < 0:\n",
    "        return\n",
    "    count = 0\n",
    "    temp = head\n",
    "    newNode = Node(data)\n",
    "    if i == 0 :\n",
    "        newNode.next = temp\n",
    "        head = newNode\n",
    "        return head\n",
    "    while (temp.next != None) and (count != i-1):\n",
    "        temp = temp.next\n",
    "        count = count + 1\n",
    "    currNext = temp.next\n",
    "    temp.next = newNode\n",
    "    newNode.next = currNext\n",
    "    return head"
   ]
  },
  {
   "cell_type": "code",
   "execution_count": 183,
   "id": "51582415",
   "metadata": {},
   "outputs": [],
   "source": [
    "head = insertIthNode(head,10,10)"
   ]
  },
  {
   "cell_type": "code",
   "execution_count": 184,
   "id": "002763de",
   "metadata": {},
   "outputs": [
    {
     "name": "stdout",
     "output_type": "stream",
     "text": [
      "9->8->7->6->1->2->3->4->10->5->10->10->None\n"
     ]
    }
   ],
   "source": [
    "printLL(head)"
   ]
  },
  {
   "cell_type": "code",
   "execution_count": null,
   "id": "925e8eff",
   "metadata": {},
   "outputs": [],
   "source": []
  },
  {
   "cell_type": "code",
   "execution_count": null,
   "id": "37951786",
   "metadata": {},
   "outputs": [],
   "source": []
  }
 ],
 "metadata": {
  "kernelspec": {
   "display_name": "Python 3 (ipykernel)",
   "language": "python",
   "name": "python3"
  },
  "language_info": {
   "codemirror_mode": {
    "name": "ipython",
    "version": 3
   },
   "file_extension": ".py",
   "mimetype": "text/x-python",
   "name": "python",
   "nbconvert_exporter": "python",
   "pygments_lexer": "ipython3",
   "version": "3.9.7"
  }
 },
 "nbformat": 4,
 "nbformat_minor": 5
}
