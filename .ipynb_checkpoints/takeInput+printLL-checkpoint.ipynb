{
 "cells": [
  {
   "cell_type": "code",
   "execution_count": 88,
   "id": "261f930a",
   "metadata": {},
   "outputs": [],
   "source": [
    "class Node:\n",
    "    def __init__(self, data):\n",
    "        self.data = data\n",
    "        self.next = None"
   ]
  },
  {
   "cell_type": "code",
   "execution_count": 89,
   "id": "246be61c",
   "metadata": {},
   "outputs": [],
   "source": [
    "def takeInput():\n",
    "    # take input in form of strings and then seperate in via space delimiter\n",
    "    inputList = [int(i) for i in input().split(\" \")]\n",
    "    return inputList"
   ]
  },
  {
   "cell_type": "code",
   "execution_count": 90,
   "id": "1a26271d",
   "metadata": {},
   "outputs": [],
   "source": [
    "def makeList(inputList):\n",
    "    head = None\n",
    "    tempHead = head\n",
    "    for i in range(len(inputList)):\n",
    "        if inputList[i] != -1:\n",
    "            newNode = Node(inputList[i])\n",
    "            if head is None:\n",
    "                head = newNode\n",
    "                tempHead = head\n",
    "            else:\n",
    "                tempHead.next = newNode\n",
    "                tempHead = tempHead.next\n",
    "    return head"
   ]
  },
  {
   "cell_type": "code",
   "execution_count": 91,
   "id": "8b60f5ce",
   "metadata": {},
   "outputs": [],
   "source": [
    "def length(head) :\n",
    "    lengthLL = 0\n",
    "    while head != None:\n",
    "        lengthLL = lengthLL + 1\n",
    "        head = head.next\n",
    "    return lengthLL"
   ]
  },
  {
   "cell_type": "code",
   "execution_count": 92,
   "id": "d20bf67d",
   "metadata": {},
   "outputs": [],
   "source": [
    "def printLL(head):\n",
    "    if head == None:\n",
    "        return\n",
    "    while head != None:\n",
    "        print(str(head.data) + \"->\", end=\"\")\n",
    "        head = head.next\n",
    "    print(\"None\")\n",
    "    return"
   ]
  },
  {
   "cell_type": "code",
   "execution_count": 204,
   "id": "6e16fc07",
   "metadata": {},
   "outputs": [
    {
     "name": "stdout",
     "output_type": "stream",
     "text": [
      "1 2 3 4 5 -1\n"
     ]
    }
   ],
   "source": [
    "head = takeInput()"
   ]
  },
  {
   "cell_type": "code",
   "execution_count": 205,
   "id": "1c345725",
   "metadata": {},
   "outputs": [],
   "source": [
    "head = makeList(head)"
   ]
  },
  {
   "cell_type": "code",
   "execution_count": 206,
   "id": "01e5b8d8",
   "metadata": {},
   "outputs": [
    {
     "name": "stdout",
     "output_type": "stream",
     "text": [
      "1->2->3->4->5->None\n"
     ]
    }
   ],
   "source": [
    "printLL(head)"
   ]
  },
  {
   "cell_type": "code",
   "execution_count": 207,
   "id": "b472d83e",
   "metadata": {},
   "outputs": [
    {
     "name": "stdout",
     "output_type": "stream",
     "text": [
      "5\n"
     ]
    }
   ],
   "source": [
    "print(length(head))"
   ]
  },
  {
   "cell_type": "code",
   "execution_count": 208,
   "id": "f1bbb8c6",
   "metadata": {},
   "outputs": [],
   "source": [
    "def printIthNode(head, i):\n",
    "    count = 0\n",
    "    while head != None and count !=i:\n",
    "        head = head.next\n",
    "        count = count + 1\n",
    "    if head is None:\n",
    "        return\n",
    "    print(head.data)\n",
    "    return"
   ]
  },
  {
   "cell_type": "code",
   "execution_count": 209,
   "id": "d715b76a",
   "metadata": {},
   "outputs": [],
   "source": [
    "def insertIthNode(head,i,data):\n",
    "    if i < 0 or i>length(head):\n",
    "        return head\n",
    "    count = 0\n",
    "    temp = head\n",
    "    newNode = Node(data)\n",
    "    if i == 0 :\n",
    "        newNode.next = temp\n",
    "        head = newNode\n",
    "        return head\n",
    "    while (temp.next != None) and (count != i-1):\n",
    "        temp = temp.next\n",
    "        count = count + 1\n",
    "    currNext = temp.next\n",
    "    temp.next = newNode\n",
    "    newNode.next = currNext\n",
    "    return head"
   ]
  },
  {
   "cell_type": "code",
   "execution_count": 210,
   "id": "749a078c",
   "metadata": {},
   "outputs": [],
   "source": [
    "head = insertIthNode(head,100,100)"
   ]
  },
  {
   "cell_type": "code",
   "execution_count": 211,
   "id": "04a3c3b9",
   "metadata": {},
   "outputs": [
    {
     "name": "stdout",
     "output_type": "stream",
     "text": [
      "1->2->3->4->5->None\n"
     ]
    }
   ],
   "source": [
    "printLL(head)"
   ]
  },
  {
   "cell_type": "code",
   "execution_count": null,
   "id": "0f69d023",
   "metadata": {},
   "outputs": [],
   "source": [
    "def deleteNode(head, pos) :\n",
    "    # Write your code here.\n",
    "    if head is None:\n",
    "        return head\n",
    "    if pos<0 or pos>=length(head):\n",
    "        return head\n",
    "    count = 0\n",
    "    # prev = None\n",
    "    temp = head\n",
    "    if pos == 0:\n",
    "        head = head.next\n",
    "        return head\n",
    "    while count is not pos-1:\n",
    "        # prev = curr\n",
    "        # if curr is not None:\n",
    "        # \tcurr = curr.next\n",
    "        # count = count+1\n",
    "        temp = temp.next\n",
    "        count = count+1\n",
    "    temp.next = temp.next.next\n",
    "    # if prev is None:\n",
    "    #     head = head.next\n",
    "    #     return head\n",
    "    # if curr is not None:\n",
    "    # \tprev.next = curr.next\n",
    "    return head\n",
    "    pass\n"
   ]
  },
  {
   "cell_type": "code",
   "execution_count": null,
   "id": "f7751bc4",
   "metadata": {},
   "outputs": [],
   "source": []
  }
 ],
 "metadata": {
  "kernelspec": {
   "display_name": "Python 3 (ipykernel)",
   "language": "python",
   "name": "python3"
  },
  "language_info": {
   "codemirror_mode": {
    "name": "ipython",
    "version": 3
   },
   "file_extension": ".py",
   "mimetype": "text/x-python",
   "name": "python",
   "nbconvert_exporter": "python",
   "pygments_lexer": "ipython3",
   "version": "3.9.7"
  }
 },
 "nbformat": 4,
 "nbformat_minor": 5
}
