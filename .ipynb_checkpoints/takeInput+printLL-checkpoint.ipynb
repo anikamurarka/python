{
 "cells": [
  {
   "cell_type": "code",
   "execution_count": 46,
   "id": "69093e6d",
   "metadata": {},
   "outputs": [],
   "source": [
    "class Node:\n",
    "    def __init__(self, data):\n",
    "        self.data = data\n",
    "        self.next = None"
   ]
  },
  {
   "cell_type": "code",
   "execution_count": 5,
   "id": "acd1bed2",
   "metadata": {},
   "outputs": [],
   "source": [
    "def takeInput():\n",
    "    # take input in form of strings and then seperate in via space delimiter\n",
    "    inputList = [int(i) for i in input().split(\" \")]\n",
    "    return inputList"
   ]
  },
  {
   "cell_type": "code",
   "execution_count": 75,
   "id": "39b8660c",
   "metadata": {},
   "outputs": [],
   "source": [
    "def makeList(inputList):\n",
    "    head = None\n",
    "    tempHead = head\n",
    "    for i in range(len(inputList)):\n",
    "        if inputList[i] != -1:\n",
    "            newNode = Node(inputList[i])\n",
    "            if head is None:\n",
    "                head = newNode\n",
    "                tempHead = head\n",
    "            else:\n",
    "                tempHead.next = newNode\n",
    "                tempHead = tempHead.next\n",
    "    return head"
   ]
  },
  {
   "cell_type": "code",
   "execution_count": 80,
   "id": "40561869",
   "metadata": {},
   "outputs": [],
   "source": [
    "def length(head) :\n",
    "    lengthLL = 0\n",
    "    while head != None:\n",
    "        lengthLL = lengthLL + 1\n",
    "        head = head.next\n",
    "    return lengthLL"
   ]
  },
  {
   "cell_type": "code",
   "execution_count": 76,
   "id": "d6ca46fc",
   "metadata": {},
   "outputs": [],
   "source": [
    "def printLL(head):\n",
    "    if head == None:\n",
    "        return\n",
    "    while head != None:\n",
    "        print(str(head.data) + \"->\", end=\"\")\n",
    "        head = head.next\n",
    "    print(\"None\")\n",
    "    return"
   ]
  },
  {
   "cell_type": "code",
   "execution_count": 77,
   "id": "25ecad21",
   "metadata": {},
   "outputs": [
    {
     "name": "stdout",
     "output_type": "stream",
     "text": [
      "1 2 3 4 5 -1\n"
     ]
    }
   ],
   "source": [
    "head = takeInput()"
   ]
  },
  {
   "cell_type": "code",
   "execution_count": 78,
   "id": "deba494b",
   "metadata": {},
   "outputs": [],
   "source": [
    "head = makeList(head)"
   ]
  },
  {
   "cell_type": "code",
   "execution_count": 79,
   "id": "c110c8fa",
   "metadata": {},
   "outputs": [
    {
     "name": "stdout",
     "output_type": "stream",
     "text": [
      "1->2->3->4->5->None\n"
     ]
    }
   ],
   "source": [
    "printLL(head)"
   ]
  },
  {
   "cell_type": "code",
   "execution_count": 81,
   "id": "2cd01ba9",
   "metadata": {},
   "outputs": [
    {
     "name": "stdout",
     "output_type": "stream",
     "text": [
      "5\n"
     ]
    }
   ],
   "source": [
    "print(length(head))"
   ]
  },
  {
   "cell_type": "code",
   "execution_count": null,
   "id": "4b45f1e2",
   "metadata": {},
   "outputs": [],
   "source": []
  }
 ],
 "metadata": {
  "kernelspec": {
   "display_name": "Python 3 (ipykernel)",
   "language": "python",
   "name": "python3"
  },
  "language_info": {
   "codemirror_mode": {
    "name": "ipython",
    "version": 3
   },
   "file_extension": ".py",
   "mimetype": "text/x-python",
   "name": "python",
   "nbconvert_exporter": "python",
   "pygments_lexer": "ipython3",
   "version": "3.9.7"
  }
 },
 "nbformat": 4,
 "nbformat_minor": 5
}
