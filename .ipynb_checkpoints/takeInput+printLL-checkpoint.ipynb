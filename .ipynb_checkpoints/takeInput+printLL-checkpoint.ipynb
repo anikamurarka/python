{
 "cells": [
  {
   "cell_type": "code",
   "execution_count": 88,
   "id": "31d0cb83",
   "metadata": {},
   "outputs": [],
   "source": [
    "class Node:\n",
    "    def __init__(self, data):\n",
    "        self.data = data\n",
    "        self.next = None"
   ]
  },
  {
   "cell_type": "code",
   "execution_count": 89,
   "id": "1750c048",
   "metadata": {},
   "outputs": [],
   "source": [
    "def takeInput():\n",
    "    # take input in form of strings and then seperate in via space delimiter\n",
    "    inputList = [int(i) for i in input().split(\" \")]\n",
    "    return inputList"
   ]
  },
  {
   "cell_type": "code",
   "execution_count": 90,
   "id": "798c7ab2",
   "metadata": {},
   "outputs": [],
   "source": [
    "def makeList(inputList):\n",
    "    head = None\n",
    "    tempHead = head\n",
    "    for i in range(len(inputList)):\n",
    "        if inputList[i] != -1:\n",
    "            newNode = Node(inputList[i])\n",
    "            if head is None:\n",
    "                head = newNode\n",
    "                tempHead = head\n",
    "            else:\n",
    "                tempHead.next = newNode\n",
    "                tempHead = tempHead.next\n",
    "    return head"
   ]
  },
  {
   "cell_type": "code",
   "execution_count": 91,
   "id": "0e51b69b",
   "metadata": {},
   "outputs": [],
   "source": [
    "def length(head) :\n",
    "    lengthLL = 0\n",
    "    while head != None:\n",
    "        lengthLL = lengthLL + 1\n",
    "        head = head.next\n",
    "    return lengthLL"
   ]
  },
  {
   "cell_type": "code",
   "execution_count": 92,
   "id": "dd0c2c90",
   "metadata": {},
   "outputs": [],
   "source": [
    "def printLL(head):\n",
    "    if head == None:\n",
    "        return\n",
    "    while head != None:\n",
    "        print(str(head.data) + \"->\", end=\"\")\n",
    "        head = head.next\n",
    "    print(\"None\")\n",
    "    return"
   ]
  },
  {
   "cell_type": "code",
   "execution_count": 204,
   "id": "8fedfc83",
   "metadata": {},
   "outputs": [
    {
     "name": "stdout",
     "output_type": "stream",
     "text": [
      "1 2 3 4 5 -1\n"
     ]
    }
   ],
   "source": [
    "head = takeInput()"
   ]
  },
  {
   "cell_type": "code",
   "execution_count": 205,
   "id": "cd7571ba",
   "metadata": {},
   "outputs": [],
   "source": [
    "head = makeList(head)"
   ]
  },
  {
   "cell_type": "code",
   "execution_count": 206,
   "id": "b1e4609c",
   "metadata": {},
   "outputs": [
    {
     "name": "stdout",
     "output_type": "stream",
     "text": [
      "1->2->3->4->5->None\n"
     ]
    }
   ],
   "source": [
    "printLL(head)"
   ]
  },
  {
   "cell_type": "code",
   "execution_count": 207,
   "id": "fef17d1e",
   "metadata": {},
   "outputs": [
    {
     "name": "stdout",
     "output_type": "stream",
     "text": [
      "5\n"
     ]
    }
   ],
   "source": [
    "print(length(head))"
   ]
  },
  {
   "cell_type": "code",
   "execution_count": 208,
   "id": "fc31b69e",
   "metadata": {},
   "outputs": [],
   "source": [
    "def printIthNode(head, i):\n",
    "    count = 0\n",
    "    while head != None and count !=i:\n",
    "        head = head.next\n",
    "        count = count + 1\n",
    "    if head is None:\n",
    "        return\n",
    "    print(head.data)\n",
    "    return"
   ]
  },
  {
   "cell_type": "code",
   "execution_count": 209,
   "id": "32a7c30e",
   "metadata": {},
   "outputs": [],
   "source": [
    "def insertIthNode(head,i,data):\n",
    "    if i < 0 or i>length(head):\n",
    "        return head\n",
    "    count = 0\n",
    "    temp = head\n",
    "    newNode = Node(data)\n",
    "    if i == 0 :\n",
    "        newNode.next = temp\n",
    "        head = newNode\n",
    "        return head\n",
    "    while (temp.next != None) and (count != i-1):\n",
    "        temp = temp.next\n",
    "        count = count + 1\n",
    "    currNext = temp.next\n",
    "    temp.next = newNode\n",
    "    newNode.next = currNext\n",
    "    return head"
   ]
  },
  {
   "cell_type": "code",
   "execution_count": 210,
   "id": "ef1b8847",
   "metadata": {},
   "outputs": [],
   "source": [
    "head = insertIthNode(head,100,100)"
   ]
  },
  {
   "cell_type": "code",
   "execution_count": 211,
   "id": "f16d1b58",
   "metadata": {},
   "outputs": [
    {
     "name": "stdout",
     "output_type": "stream",
     "text": [
      "1->2->3->4->5->None\n"
     ]
    }
   ],
   "source": [
    "printLL(head)"
   ]
  },
  {
   "cell_type": "code",
   "execution_count": null,
   "id": "58b21889",
   "metadata": {},
   "outputs": [],
   "source": []
  },
  {
   "cell_type": "code",
   "execution_count": null,
   "id": "bacc0a55",
   "metadata": {},
   "outputs": [],
   "source": []
  }
 ],
 "metadata": {
  "kernelspec": {
   "display_name": "Python 3 (ipykernel)",
   "language": "python",
   "name": "python3"
  },
  "language_info": {
   "codemirror_mode": {
    "name": "ipython",
    "version": 3
   },
   "file_extension": ".py",
   "mimetype": "text/x-python",
   "name": "python",
   "nbconvert_exporter": "python",
   "pygments_lexer": "ipython3",
   "version": "3.9.7"
  }
 },
 "nbformat": 4,
 "nbformat_minor": 5
}
