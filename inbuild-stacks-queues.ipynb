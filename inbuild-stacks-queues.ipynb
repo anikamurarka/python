{
 "cells": [
  {
   "cell_type": "code",
   "execution_count": 1,
   "id": "f84df766",
   "metadata": {},
   "outputs": [
    {
     "data": {
      "text/plain": [
       "4"
      ]
     },
     "execution_count": 1,
     "metadata": {},
     "output_type": "execute_result"
    }
   ],
   "source": [
    "# stacks ( we can simply use list)\n",
    "s = [1,2,3]\n",
    "s.append(4)\n",
    "s.pop()"
   ]
  },
  {
   "cell_type": "code",
   "execution_count": 4,
   "id": "76c31b5c",
   "metadata": {},
   "outputs": [],
   "source": [
    "# in case of queues, to dequeue it might take o(n) time to shift, hence we have queue-> LIFO lib from python3\n",
    "import queue\n",
    "q = queue.Queue()\n",
    "q.put(1) #enqueue\n",
    "q.put(2)\n",
    "q.put(3)\n",
    "q.put(4)"
   ]
  },
  {
   "cell_type": "code",
   "execution_count": 5,
   "id": "a9bec058",
   "metadata": {},
   "outputs": [
    {
     "name": "stdout",
     "output_type": "stream",
     "text": [
      "1\n",
      "2\n",
      "3\n",
      "4\n"
     ]
    }
   ],
   "source": [
    "while not q.empty():\n",
    "    print(q.get()) #dequeue"
   ]
  },
  {
   "cell_type": "code",
   "execution_count": 8,
   "id": "bd5a44ec",
   "metadata": {},
   "outputs": [],
   "source": [
    "# inbuilt stack in this\n",
    "s1 = queue.LifoQueue()\n",
    "s1.put(1)\n",
    "s1.put(2)\n",
    "s1.put(3)\n",
    "s1.put(4)"
   ]
  },
  {
   "cell_type": "code",
   "execution_count": 9,
   "id": "6f2e8e4a",
   "metadata": {},
   "outputs": [
    {
     "name": "stdout",
     "output_type": "stream",
     "text": [
      "4\n",
      "3\n",
      "2\n",
      "1\n"
     ]
    }
   ],
   "source": [
    "while not s1.empty():\n",
    "    print(s1.get())"
   ]
  },
  {
   "cell_type": "code",
   "execution_count": 2,
   "id": "64256053",
   "metadata": {},
   "outputs": [],
   "source": [
    "\n",
    "from sys import stdin\n",
    "import queue\n",
    "\n",
    "class Stack :\n",
    "    def __init__(self):\n",
    "        self.q1 = queue.Queue()\n",
    "        self.q2 = queue.Queue()\n",
    "    \n",
    "    def getSize(self) :\n",
    "        return self.q1.qsize()\n",
    "\t\t#Implement the getSize() function\n",
    "    def isEmpty(self) :\n",
    "        return self.q1.qsize() ==0\n",
    "\t\t#Implement the isEmpty() function\n",
    "    def push(self, data) :\n",
    "        self.q1.put(data)\n",
    "\t\t#Implement the push(element) function\n",
    "    def pop(self) :\n",
    "        if self.q1.qsize() == 0:\n",
    "            return -1\n",
    "        len = self.q1.qsize()\n",
    "        while len -1:\n",
    "            self.q2.put(self.q1.get())\n",
    "            len = len -1\n",
    "        ans = self.q1.get()\n",
    "        self.q1,self.q2 = self.q2,self.q1\n",
    "        return ans\n",
    "\t\t#Implement the pop() function\n",
    "    def top(self) :\n",
    "        if self.q1.qsize() == 0:\n",
    "            return -1\n",
    "        len = self.q1.qsize()\n",
    "        while len -1:\n",
    "            self.q2.put(self.q1.get())\n",
    "            len = len -1\n",
    "        ans = self.q1.get()\n",
    "        self.q2.put(ans)\n",
    "        self.q1,self.q2 = self.q2,self.q1\n",
    "        return ans\n",
    "\t\t#Implement the top() function\n",
    "\t\t\n",
    "\n",
    "\n",
    "\n"
   ]
  },
  {
   "cell_type": "code",
   "execution_count": null,
   "id": "bfc9623a",
   "metadata": {},
   "outputs": [],
   "source": []
  }
 ],
 "metadata": {
  "kernelspec": {
   "display_name": "Python 3 (ipykernel)",
   "language": "python",
   "name": "python3"
  },
  "language_info": {
   "codemirror_mode": {
    "name": "ipython",
    "version": 3
   },
   "file_extension": ".py",
   "mimetype": "text/x-python",
   "name": "python",
   "nbconvert_exporter": "python",
   "pygments_lexer": "ipython3",
   "version": "3.9.7"
  }
 },
 "nbformat": 4,
 "nbformat_minor": 5
}
