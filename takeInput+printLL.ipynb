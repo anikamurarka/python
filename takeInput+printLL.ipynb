{
 "cells": [
  {
   "cell_type": "code",
   "execution_count": 28,
   "id": "15883fed",
   "metadata": {},
   "outputs": [],
   "source": [
    "class Node:\n",
    "    def __init__(self, data):\n",
    "        self.data = data\n",
    "        self.next = None"
   ]
  },
  {
   "cell_type": "code",
   "execution_count": 29,
   "id": "624c1fe2",
   "metadata": {},
   "outputs": [],
   "source": [
    "def takeInput():\n",
    "    # take input in form of strings and then seperate in via space delimiter\n",
    "    inputList = [int(i) for i in input().split(\" \")]\n",
    "    return inputList"
   ]
  },
  {
   "cell_type": "code",
   "execution_count": 30,
   "id": "b2c2b0a5",
   "metadata": {},
   "outputs": [],
   "source": [
    "def makeList(inputList):\n",
    "    head = None\n",
    "    tempHead = head\n",
    "    for i in range(len(inputList)):\n",
    "        if inputList[i] != -1:\n",
    "            newNode = Node(inputList[i])\n",
    "            if head is None:\n",
    "                head = newNode\n",
    "                tempHead = head\n",
    "            else:\n",
    "                tempHead.next = newNode\n",
    "                tempHead = tempHead.next\n",
    "    return head"
   ]
  },
  {
   "cell_type": "code",
   "execution_count": 31,
   "id": "4ffd4fa5",
   "metadata": {},
   "outputs": [],
   "source": [
    "def length(head) :\n",
    "    lengthLL = 0\n",
    "    while head != None:\n",
    "        lengthLL = lengthLL + 1\n",
    "        head = head.next\n",
    "    return lengthLL"
   ]
  },
  {
   "cell_type": "code",
   "execution_count": 32,
   "id": "6b2d179e",
   "metadata": {},
   "outputs": [],
   "source": [
    "def printLL(head):\n",
    "    if head == None:\n",
    "        return\n",
    "    while head != None:\n",
    "        print(str(head.data) + \"->\", end=\"\")\n",
    "        head = head.next\n",
    "    print(\"None\")\n",
    "    return"
   ]
  },
  {
   "cell_type": "code",
   "execution_count": 33,
   "id": "905fa8f0",
   "metadata": {},
   "outputs": [
    {
     "name": "stdout",
     "output_type": "stream",
     "text": [
      "1 2 3 -1\n"
     ]
    }
   ],
   "source": [
    "head = takeInput()"
   ]
  },
  {
   "cell_type": "code",
   "execution_count": 34,
   "id": "7b3e6ab7",
   "metadata": {},
   "outputs": [],
   "source": [
    "head = makeList(head)"
   ]
  },
  {
   "cell_type": "code",
   "execution_count": 35,
   "id": "8695c1fa",
   "metadata": {},
   "outputs": [
    {
     "name": "stdout",
     "output_type": "stream",
     "text": [
      "1->2->3->None\n"
     ]
    }
   ],
   "source": [
    "printLL(head)"
   ]
  },
  {
   "cell_type": "code",
   "execution_count": 36,
   "id": "6108e424",
   "metadata": {},
   "outputs": [
    {
     "name": "stdout",
     "output_type": "stream",
     "text": [
      "3\n"
     ]
    }
   ],
   "source": [
    "print(length(head))"
   ]
  },
  {
   "cell_type": "code",
   "execution_count": 37,
   "id": "9da08903",
   "metadata": {},
   "outputs": [],
   "source": [
    "def printIthNode(head, i):\n",
    "    count = 0\n",
    "    while head != None and count !=i:\n",
    "        head = head.next\n",
    "        count = count + 1\n",
    "    if head is None:\n",
    "        return\n",
    "    print(head.data)\n",
    "    return"
   ]
  },
  {
   "cell_type": "code",
   "execution_count": 38,
   "id": "df9f7129",
   "metadata": {},
   "outputs": [],
   "source": [
    "def insertIthNode(head,i,data): #O(i+n)\n",
    "    if i < 0 or i>length(head):\n",
    "        return head\n",
    "    count = 0\n",
    "    temp = head\n",
    "    newNode = Node(data)\n",
    "    if i == 0 :\n",
    "        newNode.next = temp\n",
    "        head = newNode\n",
    "        return head\n",
    "    while (temp.next != None) and (count != i-1):\n",
    "        temp = temp.next\n",
    "        count = count + 1\n",
    "    currNext = temp.next\n",
    "    temp.next = newNode\n",
    "    newNode.next = currNext\n",
    "    return head"
   ]
  },
  {
   "cell_type": "code",
   "execution_count": 210,
   "id": "d4673f05",
   "metadata": {},
   "outputs": [],
   "source": [
    "head = insertIthNode(head,100,100)"
   ]
  },
  {
   "cell_type": "code",
   "execution_count": 211,
   "id": "73949166",
   "metadata": {},
   "outputs": [
    {
     "name": "stdout",
     "output_type": "stream",
     "text": [
      "1->2->3->4->5->None\n"
     ]
    }
   ],
   "source": [
    "printLL(head)"
   ]
  },
  {
   "cell_type": "code",
   "execution_count": 15,
   "id": "dd0ed067",
   "metadata": {},
   "outputs": [],
   "source": [
    "def deleteNode(head, pos) :\n",
    "    # Write your code here.\n",
    "    if head is None:\n",
    "        return head\n",
    "    if pos<0 or pos>=length(head):\n",
    "        return head\n",
    "    count = 0\n",
    "    # prev = None\n",
    "    temp = head\n",
    "    if pos == 0:\n",
    "        head = head.next\n",
    "        return head\n",
    "    while count is not pos-1:\n",
    "        # prev = curr\n",
    "        # if curr is not None:\n",
    "        # \tcurr = curr.next\n",
    "        # count = count+1\n",
    "        temp = temp.next\n",
    "        count = count+1\n",
    "    temp.next = temp.next.next\n",
    "    # if prev is None:\n",
    "    #     head = head.next\n",
    "    #     return head\n",
    "    # if curr is not None:\n",
    "    # \tprev.next = curr.next\n",
    "    return head\n",
    "    pass\n"
   ]
  },
  {
   "cell_type": "code",
   "execution_count": 16,
   "id": "499c51c8",
   "metadata": {},
   "outputs": [],
   "source": [
    "def lengthRecursive(head):\n",
    "    if head is None:\n",
    "        return 0\n",
    "    if head.next is None:\n",
    "        return 1\n",
    "    return 1 + lengthRecursive(head.next)\n",
    "    pass"
   ]
  },
  {
   "cell_type": "code",
   "execution_count": 17,
   "id": "c1d2cea4",
   "metadata": {},
   "outputs": [],
   "source": [
    "def deleteNodeRec(head, pos) :\n",
    "    if head is None:\n",
    "        return head\n",
    "    if pos >= lengthRecursive(head):\n",
    "        return head\n",
    "    if pos == 0:\n",
    "        head = head.next\n",
    "        return head\n",
    "    head.next = deleteNodeRec(head.next,pos-1)\n",
    "    return head"
   ]
  },
  {
   "cell_type": "code",
   "execution_count": 18,
   "id": "b13f8bd5",
   "metadata": {},
   "outputs": [],
   "source": [
    "def findNode(head, n) :\n",
    "    if head is None:\n",
    "        return -1\n",
    "    if head.data == n:\n",
    "        return 0\n",
    "    smallAns =  findNode(head.next,n)\n",
    "    if smallAns == -1:\n",
    "        return smallAns\n",
    "    return 1 + findNode(head.next,n)\n",
    "    pass"
   ]
  },
  {
   "cell_type": "code",
   "execution_count": 19,
   "id": "26d5da7b",
   "metadata": {},
   "outputs": [],
   "source": [
    "def insertIthNodeRec(head,i,data): #O(i)\n",
    "    if i<0:\n",
    "        return head\n",
    "    if i==0:\n",
    "        newNode = Node(data)\n",
    "        newNode.next = head\n",
    "        return newNode\n",
    "    if head==None:\n",
    "        return head\n",
    "    head.next = insertIthNodeRec(head.next,i-1,data)\n",
    "    return head"
   ]
  },
  {
   "cell_type": "code",
   "execution_count": 55,
   "id": "f054a24d",
   "metadata": {},
   "outputs": [
    {
     "name": "stdout",
     "output_type": "stream",
     "text": [
      "1->2->9->9->9->None\n"
     ]
    }
   ],
   "source": [
    "head = insertIthNodeRec(head,4,9)\n",
    "printLL(head)"
   ]
  },
  {
   "cell_type": "code",
   "execution_count": 56,
   "id": "20caf1ef",
   "metadata": {},
   "outputs": [
    {
     "name": "stdout",
     "output_type": "stream",
     "text": [
      "5\n"
     ]
    }
   ],
   "source": [
    "print(lengthRecursive(head))"
   ]
  },
  {
   "cell_type": "code",
   "execution_count": 22,
   "id": "86e5266b",
   "metadata": {},
   "outputs": [],
   "source": [
    "def reverseLinkedListRec(head) : #previous solution complexity o(n2) this solution o(n)\n",
    "    if head is None:\n",
    "        return head\n",
    "    if head.next is None:\n",
    "        return head\n",
    "    smallHead = reverseLinkedListRec(head.next)\n",
    "    head.next.next = head\n",
    "    head.next = None\n",
    "    return smallHead\n"
   ]
  },
  {
   "cell_type": "code",
   "execution_count": 23,
   "id": "8cf95e8f",
   "metadata": {},
   "outputs": [
    {
     "ename": "RecursionError",
     "evalue": "maximum recursion depth exceeded",
     "output_type": "error",
     "traceback": [
      "\u001b[0;31m---------------------------------------------------------------------------\u001b[0m",
      "\u001b[0;31mRecursionError\u001b[0m                            Traceback (most recent call last)",
      "\u001b[0;32m/var/folders/x_/2nhckcv12_94jtlx8yl6x16m0000gn/T/ipykernel_95014/3307013642.py\u001b[0m in \u001b[0;36m<module>\u001b[0;34m\u001b[0m\n\u001b[0;32m----> 1\u001b[0;31m \u001b[0mhead\u001b[0m \u001b[0;34m=\u001b[0m \u001b[0mreverseLinkedListRec\u001b[0m\u001b[0;34m(\u001b[0m\u001b[0mhead\u001b[0m\u001b[0;34m)\u001b[0m\u001b[0;34m\u001b[0m\u001b[0;34m\u001b[0m\u001b[0m\n\u001b[0m",
      "\u001b[0;32m/var/folders/x_/2nhckcv12_94jtlx8yl6x16m0000gn/T/ipykernel_95014/1752379524.py\u001b[0m in \u001b[0;36mreverseLinkedListRec\u001b[0;34m(head)\u001b[0m\n\u001b[1;32m      4\u001b[0m     \u001b[0;32mif\u001b[0m \u001b[0mhead\u001b[0m\u001b[0;34m.\u001b[0m\u001b[0mnext\u001b[0m \u001b[0;32mis\u001b[0m \u001b[0;32mNone\u001b[0m\u001b[0;34m:\u001b[0m\u001b[0;34m\u001b[0m\u001b[0;34m\u001b[0m\u001b[0m\n\u001b[1;32m      5\u001b[0m         \u001b[0;32mreturn\u001b[0m \u001b[0mhead\u001b[0m\u001b[0;34m\u001b[0m\u001b[0;34m\u001b[0m\u001b[0m\n\u001b[0;32m----> 6\u001b[0;31m     \u001b[0msmallHead\u001b[0m \u001b[0;34m=\u001b[0m \u001b[0mreverseLinkedListRec\u001b[0m\u001b[0;34m(\u001b[0m\u001b[0mhead\u001b[0m\u001b[0;34m.\u001b[0m\u001b[0mnext\u001b[0m\u001b[0;34m)\u001b[0m\u001b[0;34m\u001b[0m\u001b[0;34m\u001b[0m\u001b[0m\n\u001b[0m\u001b[1;32m      7\u001b[0m     \u001b[0mhead\u001b[0m\u001b[0;34m.\u001b[0m\u001b[0mnext\u001b[0m\u001b[0;34m.\u001b[0m\u001b[0mnext\u001b[0m \u001b[0;34m=\u001b[0m \u001b[0mhead\u001b[0m\u001b[0;34m\u001b[0m\u001b[0;34m\u001b[0m\u001b[0m\n\u001b[1;32m      8\u001b[0m     \u001b[0mhead\u001b[0m\u001b[0;34m.\u001b[0m\u001b[0mnext\u001b[0m \u001b[0;34m=\u001b[0m \u001b[0;32mNone\u001b[0m\u001b[0;34m\u001b[0m\u001b[0;34m\u001b[0m\u001b[0m\n",
      "... last 1 frames repeated, from the frame below ...\n",
      "\u001b[0;32m/var/folders/x_/2nhckcv12_94jtlx8yl6x16m0000gn/T/ipykernel_95014/1752379524.py\u001b[0m in \u001b[0;36mreverseLinkedListRec\u001b[0;34m(head)\u001b[0m\n\u001b[1;32m      4\u001b[0m     \u001b[0;32mif\u001b[0m \u001b[0mhead\u001b[0m\u001b[0;34m.\u001b[0m\u001b[0mnext\u001b[0m \u001b[0;32mis\u001b[0m \u001b[0;32mNone\u001b[0m\u001b[0;34m:\u001b[0m\u001b[0;34m\u001b[0m\u001b[0;34m\u001b[0m\u001b[0m\n\u001b[1;32m      5\u001b[0m         \u001b[0;32mreturn\u001b[0m \u001b[0mhead\u001b[0m\u001b[0;34m\u001b[0m\u001b[0;34m\u001b[0m\u001b[0m\n\u001b[0;32m----> 6\u001b[0;31m     \u001b[0msmallHead\u001b[0m \u001b[0;34m=\u001b[0m \u001b[0mreverseLinkedListRec\u001b[0m\u001b[0;34m(\u001b[0m\u001b[0mhead\u001b[0m\u001b[0;34m.\u001b[0m\u001b[0mnext\u001b[0m\u001b[0;34m)\u001b[0m\u001b[0;34m\u001b[0m\u001b[0;34m\u001b[0m\u001b[0m\n\u001b[0m\u001b[1;32m      7\u001b[0m     \u001b[0mhead\u001b[0m\u001b[0;34m.\u001b[0m\u001b[0mnext\u001b[0m\u001b[0;34m.\u001b[0m\u001b[0mnext\u001b[0m \u001b[0;34m=\u001b[0m \u001b[0mhead\u001b[0m\u001b[0;34m\u001b[0m\u001b[0;34m\u001b[0m\u001b[0m\n\u001b[1;32m      8\u001b[0m     \u001b[0mhead\u001b[0m\u001b[0;34m.\u001b[0m\u001b[0mnext\u001b[0m \u001b[0;34m=\u001b[0m \u001b[0;32mNone\u001b[0m\u001b[0;34m\u001b[0m\u001b[0;34m\u001b[0m\u001b[0m\n",
      "\u001b[0;31mRecursionError\u001b[0m: maximum recursion depth exceeded"
     ]
    }
   ],
   "source": [
    "head = reverseLinkedListRec(head)"
   ]
  },
  {
   "cell_type": "code",
   "execution_count": 39,
   "id": "d0c79c73",
   "metadata": {},
   "outputs": [],
   "source": [
    "def reverse(head):\n",
    "    if head is None:\n",
    "        return head\n",
    "    if head.next is None:\n",
    "        return head\n",
    "    prev = head\n",
    "    curr = head.next\n",
    "    \n",
    "    while curr:\n",
    "    \tnext = curr.next\n",
    "    \tif prev is head:\n",
    "        \tprev.next = None\n",
    "    \tcurr.next = prev\n",
    "    \tprev = curr\n",
    "    \tcurr = next\n",
    "    \n",
    "    return prev\n",
    "    pass"
   ]
  },
  {
   "cell_type": "code",
   "execution_count": 40,
   "id": "bc9431a1",
   "metadata": {},
   "outputs": [],
   "source": [
    "head = reverse(head)"
   ]
  },
  {
   "cell_type": "code",
   "execution_count": 41,
   "id": "649fe6b9",
   "metadata": {},
   "outputs": [
    {
     "data": {
      "text/plain": [
       "<__main__.Node at 0x7ff76c632700>"
      ]
     },
     "execution_count": 41,
     "metadata": {},
     "output_type": "execute_result"
    }
   ],
   "source": [
    "head"
   ]
  },
  {
   "cell_type": "code",
   "execution_count": 42,
   "id": "e7913b43",
   "metadata": {},
   "outputs": [
    {
     "name": "stdout",
     "output_type": "stream",
     "text": [
      "3->2->1->None\n"
     ]
    }
   ],
   "source": [
    "printLL(head)"
   ]
  },
  {
   "cell_type": "code",
   "execution_count": 43,
   "id": "e9dbbdc1",
   "metadata": {},
   "outputs": [],
   "source": [
    "#finding midpoint of he linkedlist\n",
    "def midPoint(head) :\n",
    "    # Write your code here\n",
    "    if head is None or head.next is None:\n",
    "        return head\n",
    "    fast = head\n",
    "    slow = head\n",
    "    while fast.next and fast.next.next:\n",
    "        fast = fast.next.next\n",
    "        slow = slow.next\n",
    "    return slow\n",
    "    pass"
   ]
  },
  {
   "cell_type": "code",
   "execution_count": 44,
   "id": "05af036e",
   "metadata": {},
   "outputs": [],
   "source": [
    "def removeDuplicates(head) :\n",
    "    if head is None :\n",
    "        return head\n",
    "    if head.next is None:\n",
    "        return head\n",
    "    while head and head.next and (head.data==head.next.data):\n",
    "        head = head.next\n",
    "    smallHead = removeDuplicates(head.next)\n",
    "    # if head.data == head.next.data:\n",
    "    #     smallHead = removeDuplicates(head.next.next)\n",
    "    # else:\n",
    "    #     smallHead = removeDuplicates(head.next)\n",
    "    # headData = head.data\n",
    "    # while smallHead and (smallHead.data == headData):\n",
    "    #     smallHead = smallHead.next\n",
    "    head.next = smallHead\n",
    "    return head"
   ]
  },
  {
   "cell_type": "code",
   "execution_count": 45,
   "id": "15622530",
   "metadata": {},
   "outputs": [],
   "source": [
    "def printReverse(head) :\n",
    "    if head is None:\n",
    "        return\n",
    "    printReverse(head.next)\n",
    "    print(head.data,end=\" \")\n",
    "    return"
   ]
  },
  {
   "cell_type": "code",
   "execution_count": 46,
   "id": "24306575",
   "metadata": {},
   "outputs": [],
   "source": [
    "def isPalindrome(head) :\n",
    "    if head is None:\n",
    "        return True\n",
    "    if head.next is None:\n",
    "        return True\n",
    "    # tail = head\n",
    "    # while tail.next.next:\n",
    "    #     tail = tail.next\n",
    "    # if head.data == tail.next.data:\n",
    "    #     tail.next = None\n",
    "    #     return isPalindrome(head.next)\n",
    "    # return False\n",
    "    slow = head\n",
    "    fast = head\n",
    "    while fast.next and fast.next.next:\n",
    "        slow = slow.next\n",
    "        fast = fast.next.next\n",
    "    # print(slow.data)\n",
    "    newHead =reverseLinkedListRec(slow.next)\n",
    "    # printLL(head)\n",
    "    # printLL(newHead)\n",
    "    while newHead:\n",
    "        if newHead.data != head.data:\n",
    "            return False\n",
    "        newHead = newHead.next\n",
    "        head = head.next\n",
    "    return True"
   ]
  },
  {
   "cell_type": "code",
   "execution_count": 1,
   "id": "a31b0eb1",
   "metadata": {},
   "outputs": [],
   "source": [
    "def findNodeRec(head, n) :\n",
    "    if head is None:\n",
    "        return -1\n",
    "    if head.data == n:\n",
    "        return 0\n",
    "    smallOutput = findNodeRec(head.next,n)\n",
    "    if smallOutput ==-1:\n",
    "        return smallOutput\n",
    "    return 1 + smallOutput"
   ]
  },
  {
   "cell_type": "code",
   "execution_count": 2,
   "id": "7d0eb065",
   "metadata": {},
   "outputs": [],
   "source": [
    "def mergeTwoSortedLinkedLists(head1, head2):\n",
    "    if head1 is None:\n",
    "        return head2\n",
    "    if head2 is None:\n",
    "        return head1\n",
    "    head = None\n",
    "    temp = None\n",
    "    if head1.data > head2.data:\n",
    "        head = head2 \n",
    "        temp = head2\n",
    "        head2 = head2.next\n",
    "    else:\n",
    "        head = head1\n",
    "        temp = head1\n",
    "        head1 = head1.next\n",
    "    while head1 and head2:\n",
    "        if head1.data > head2.data:\n",
    "            temp.next = head2\n",
    "            head2= head2.next\n",
    "        else:\n",
    "            temp.next = head1\n",
    "            head1 = head1.next\n",
    "        temp = temp.next\n",
    "    if head1 is None:\n",
    "        temp.next = head2\n",
    "    else:\n",
    "        temp.next = head1\n",
    "    return head"
   ]
  },
  {
   "cell_type": "code",
   "execution_count": 3,
   "id": "0e849d27",
   "metadata": {},
   "outputs": [],
   "source": [
    "def mergeSortHelper(head):\n",
    "    if head is None or head.next is None:\n",
    "        return head\n",
    " \n",
    "\t\n",
    "    mid = midPoint(head)\n",
    "    head1 = mid.next\n",
    "    mid.next = None\n",
    "    head = mergeSortHelper(head)\n",
    "    head1 = mergeSortHelper(head1)\n",
    "    head = mergeTwoSortedLinkedLists(head,head1)\n",
    "    return head\n",
    "\n",
    "def mergeSort(head) :\n",
    "    if head is None or head.next is None:\n",
    "        return head\n",
    "    tail = head\n",
    "    return  mergeSortHelper(head)\n",
    "    # return head"
   ]
  },
  {
   "cell_type": "code",
   "execution_count": null,
   "id": "52d07afb",
   "metadata": {},
   "outputs": [],
   "source": []
  }
 ],
 "metadata": {
  "kernelspec": {
   "display_name": "Python 3 (ipykernel)",
   "language": "python",
   "name": "python3"
  },
  "language_info": {
   "codemirror_mode": {
    "name": "ipython",
    "version": 3
   },
   "file_extension": ".py",
   "mimetype": "text/x-python",
   "name": "python",
   "nbconvert_exporter": "python",
   "pygments_lexer": "ipython3",
   "version": "3.9.7"
  }
 },
 "nbformat": 4,
 "nbformat_minor": 5
}
