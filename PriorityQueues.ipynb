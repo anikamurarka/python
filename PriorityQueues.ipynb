{
 "cells": [
  {
   "cell_type": "code",
   "execution_count": 1,
   "id": "6ce65621",
   "metadata": {},
   "outputs": [],
   "source": [
    "#used to solve the problems where priority factor is associated \n",
    "# 2 things -> value and priority\n",
    "# 2 varitaions-> min-pq-> element with least priority factor will come first and max-pq -> element with maxpriority factor will come first\n",
    "# functions -> 1. insert : element and its priority will be inserted\n",
    "# 2. getmin/getmax : donot pop(), only get top()\n",
    "# 3. removeMin/removeMax : pop()"
   ]
  },
  {
   "cell_type": "code",
   "execution_count": 88,
   "id": "f11f71d3",
   "metadata": {},
   "outputs": [],
   "source": [
    "# ways to implememt priority queue\n",
    "# after heap, balanced bst is the best implementation\n",
    "# \n",
    "class PriotiyQueueNode:\n",
    "    def __init__(self,value,priority):\n",
    "        self.value = value\n",
    "        self.priority = priority\n",
    "\n",
    "class Priority:\n",
    "    def __init__(self):\n",
    "        self.__pq = [] # we will have a list of pairs\n",
    "    \n",
    "    def insert(self,value,priority):\n",
    "        newNode = PriotiyQueueNode(value, priority)\n",
    "        self.__pq.append(newNode)\n",
    "        ci = len(self.__pq)-1\n",
    "        pi = (ci-1)//2\n",
    "        print(pi,ci,self.__pq[pi].priority,self.__pq[ci].priority)\n",
    "        while (pi >=0) and pi is not ci and  (self.__pq[pi].priority > self.__pq[ci].priority):\n",
    "            temp = self.__pq[pi]\n",
    "            self.__pq[pi] = self.__pq[ci]\n",
    "            self.__pq[ci] = temp\n",
    "            ci = pi\n",
    "            pi = (ci-1)//2\n",
    "        return self.__pq\n",
    "    \n",
    "    \n",
    "    def remove(self):\n",
    "        if self.isEmpty():\n",
    "            return None\n",
    "        temp = self.__pq[0]\n",
    "        self.__pq[0] = self.__pq[len(self.__pq)-1]\n",
    "        self.__pq[len(self.__pq)-1] = temp\n",
    "        self.__pq.pop()\n",
    "        \n",
    "        pi = 0\n",
    "        ci1 = 2*pi +1\n",
    "        ci2 = 2*pi +2\n",
    "        minChildInd = ci1\n",
    "        if self.__pq[ci1].priority > self.__pq[ci2].priority:\n",
    "            minChildInd = ci2\n",
    "        while minChildInd<len(self.__pq) and self.__pq[pi].priority>self.__pq[minChildInd].priority:\n",
    "            temp = self.__pq[pi]\n",
    "            self.__pq[pi] = self.__pq[minChildInd]\n",
    "            self.__pq[minChildInd] = temp\n",
    "            pi = minChildInd\n",
    "            ci1 = 2*pi +1\n",
    "            ci2 = 2*pi +2\n",
    "            minChildInd = ci1\n",
    "            if ci1 >= len(self.__pq) or ci2 >= len(self.__pq):\n",
    "                break\n",
    "            if self.__pq[ci1].priority > self.__pq[ci2].priority:\n",
    "                minChildInd = ci2\n",
    "        return self.__pq\n",
    "    \n",
    "    def getMin(self):\n",
    "        if self.isEmpty():\n",
    "            return None\n",
    "        return self.__pq[0].value\n",
    "    def getSize(self):\n",
    "        return len(self.__pq)\n",
    "    def isEmpty(self):\n",
    "        return len(self.__pq) == 0\n",
    "    \n",
    "    "
   ]
  },
  {
   "cell_type": "code",
   "execution_count": 89,
   "id": "033cae18",
   "metadata": {},
   "outputs": [
    {
     "name": "stdout",
     "output_type": "stream",
     "text": [
      "-1 0 10 10\n"
     ]
    },
    {
     "data": {
      "text/plain": [
       "[<__main__.PriotiyQueueNode at 0x7fd66266c3d0>]"
      ]
     },
     "execution_count": 89,
     "metadata": {},
     "output_type": "execute_result"
    }
   ],
   "source": [
    "a = Priority()\n",
    "a.insert(1,10)"
   ]
  },
  {
   "cell_type": "raw",
   "id": "fc1c2908",
   "metadata": {},
   "source": []
  },
  {
   "cell_type": "code",
   "execution_count": 90,
   "id": "703e0c91",
   "metadata": {},
   "outputs": [
    {
     "name": "stdout",
     "output_type": "stream",
     "text": [
      "0 1 10 8\n"
     ]
    },
    {
     "data": {
      "text/plain": [
       "[<__main__.PriotiyQueueNode at 0x7fd66266c7f0>,\n",
       " <__main__.PriotiyQueueNode at 0x7fd66266c3d0>]"
      ]
     },
     "execution_count": 90,
     "metadata": {},
     "output_type": "execute_result"
    }
   ],
   "source": [
    "a.insert(2,8)"
   ]
  },
  {
   "cell_type": "code",
   "execution_count": 91,
   "id": "cbea71d4",
   "metadata": {},
   "outputs": [
    {
     "name": "stdout",
     "output_type": "stream",
     "text": [
      "0 2 8 20\n"
     ]
    },
    {
     "data": {
      "text/plain": [
       "[<__main__.PriotiyQueueNode at 0x7fd66266c7f0>,\n",
       " <__main__.PriotiyQueueNode at 0x7fd66266c3d0>,\n",
       " <__main__.PriotiyQueueNode at 0x7fd66266ce80>]"
      ]
     },
     "execution_count": 91,
     "metadata": {},
     "output_type": "execute_result"
    }
   ],
   "source": [
    "a.insert(3,20)"
   ]
  },
  {
   "cell_type": "code",
   "execution_count": 92,
   "id": "87e636df",
   "metadata": {},
   "outputs": [
    {
     "name": "stdout",
     "output_type": "stream",
     "text": [
      "1 3 10 18\n"
     ]
    },
    {
     "data": {
      "text/plain": [
       "[<__main__.PriotiyQueueNode at 0x7fd66266c7f0>,\n",
       " <__main__.PriotiyQueueNode at 0x7fd66266c3d0>,\n",
       " <__main__.PriotiyQueueNode at 0x7fd66266ce80>,\n",
       " <__main__.PriotiyQueueNode at 0x7fd66266c970>]"
      ]
     },
     "execution_count": 92,
     "metadata": {},
     "output_type": "execute_result"
    }
   ],
   "source": [
    "a.insert(4,18)"
   ]
  },
  {
   "cell_type": "code",
   "execution_count": 93,
   "id": "775fffe5",
   "metadata": {},
   "outputs": [
    {
     "name": "stdout",
     "output_type": "stream",
     "text": [
      "1 4 10 3\n"
     ]
    },
    {
     "data": {
      "text/plain": [
       "[<__main__.PriotiyQueueNode at 0x7fd66266cd60>,\n",
       " <__main__.PriotiyQueueNode at 0x7fd66266c7f0>,\n",
       " <__main__.PriotiyQueueNode at 0x7fd66266ce80>,\n",
       " <__main__.PriotiyQueueNode at 0x7fd66266c970>,\n",
       " <__main__.PriotiyQueueNode at 0x7fd66266c3d0>]"
      ]
     },
     "execution_count": 93,
     "metadata": {},
     "output_type": "execute_result"
    }
   ],
   "source": [
    "a.insert(5,3)"
   ]
  },
  {
   "cell_type": "code",
   "execution_count": 94,
   "id": "d9f4c42b",
   "metadata": {},
   "outputs": [
    {
     "name": "stdout",
     "output_type": "stream",
     "text": [
      "2 5 20 7\n"
     ]
    },
    {
     "data": {
      "text/plain": [
       "[<__main__.PriotiyQueueNode at 0x7fd66266cd60>,\n",
       " <__main__.PriotiyQueueNode at 0x7fd66266c7f0>,\n",
       " <__main__.PriotiyQueueNode at 0x7fd66266c6d0>,\n",
       " <__main__.PriotiyQueueNode at 0x7fd66266c970>,\n",
       " <__main__.PriotiyQueueNode at 0x7fd66266c3d0>,\n",
       " <__main__.PriotiyQueueNode at 0x7fd66266ce80>]"
      ]
     },
     "execution_count": 94,
     "metadata": {},
     "output_type": "execute_result"
    }
   ],
   "source": [
    "a.insert(4,7)"
   ]
  },
  {
   "cell_type": "code",
   "execution_count": 95,
   "id": "33455941",
   "metadata": {},
   "outputs": [
    {
     "ename": "TypeError",
     "evalue": "'Priority' object is not iterable",
     "output_type": "error",
     "traceback": [
      "\u001b[0;31m---------------------------------------------------------------------------\u001b[0m",
      "\u001b[0;31mTypeError\u001b[0m                                 Traceback (most recent call last)",
      "\u001b[0;32m/var/folders/x_/2nhckcv12_94jtlx8yl6x16m0000gn/T/ipykernel_39852/1311549388.py\u001b[0m in \u001b[0;36m<module>\u001b[0;34m\u001b[0m\n\u001b[0;32m----> 1\u001b[0;31m \u001b[0;32mfor\u001b[0m \u001b[0mele\u001b[0m \u001b[0;32min\u001b[0m \u001b[0ma\u001b[0m\u001b[0;34m:\u001b[0m\u001b[0;34m\u001b[0m\u001b[0;34m\u001b[0m\u001b[0m\n\u001b[0m\u001b[1;32m      2\u001b[0m     \u001b[0mprint\u001b[0m\u001b[0;34m(\u001b[0m\u001b[0mele\u001b[0m\u001b[0;34m.\u001b[0m\u001b[0mpriority\u001b[0m\u001b[0;34m,\u001b[0m\u001b[0mele\u001b[0m\u001b[0;34m.\u001b[0m\u001b[0mvalue\u001b[0m\u001b[0;34m)\u001b[0m\u001b[0;34m\u001b[0m\u001b[0;34m\u001b[0m\u001b[0m\n",
      "\u001b[0;31mTypeError\u001b[0m: 'Priority' object is not iterable"
     ]
    }
   ],
   "source": [
    "for ele in a:\n",
    "    print(ele.priority,ele.value)"
   ]
  },
  {
   "cell_type": "code",
   "execution_count": 96,
   "id": "5604ddb5",
   "metadata": {},
   "outputs": [
    {
     "data": {
      "text/plain": [
       "5"
      ]
     },
     "execution_count": 96,
     "metadata": {},
     "output_type": "execute_result"
    }
   ],
   "source": [
    "a.getMin()"
   ]
  },
  {
   "cell_type": "code",
   "execution_count": 97,
   "id": "13d612a9",
   "metadata": {},
   "outputs": [
    {
     "data": {
      "text/plain": [
       "[<__main__.PriotiyQueueNode at 0x7fd66266c6d0>,\n",
       " <__main__.PriotiyQueueNode at 0x7fd66266c7f0>,\n",
       " <__main__.PriotiyQueueNode at 0x7fd66266ce80>,\n",
       " <__main__.PriotiyQueueNode at 0x7fd66266c970>,\n",
       " <__main__.PriotiyQueueNode at 0x7fd66266c3d0>]"
      ]
     },
     "execution_count": 97,
     "metadata": {},
     "output_type": "execute_result"
    }
   ],
   "source": [
    "a.remove()"
   ]
  },
  {
   "cell_type": "code",
   "execution_count": 98,
   "id": "a56383ae",
   "metadata": {},
   "outputs": [
    {
     "data": {
      "text/plain": [
       "4"
      ]
     },
     "execution_count": 98,
     "metadata": {},
     "output_type": "execute_result"
    }
   ],
   "source": [
    "a.getMin()"
   ]
  },
  {
   "cell_type": "code",
   "execution_count": 99,
   "id": "f906d7d3",
   "metadata": {},
   "outputs": [
    {
     "data": {
      "text/plain": [
       "[<__main__.PriotiyQueueNode at 0x7fd66266c7f0>,\n",
       " <__main__.PriotiyQueueNode at 0x7fd66266c3d0>,\n",
       " <__main__.PriotiyQueueNode at 0x7fd66266ce80>,\n",
       " <__main__.PriotiyQueueNode at 0x7fd66266c970>]"
      ]
     },
     "execution_count": 99,
     "metadata": {},
     "output_type": "execute_result"
    }
   ],
   "source": [
    "a.remove()"
   ]
  },
  {
   "cell_type": "code",
   "execution_count": 101,
   "id": "4cd195a2",
   "metadata": {},
   "outputs": [
    {
     "data": {
      "text/plain": [
       "2"
      ]
     },
     "execution_count": 101,
     "metadata": {},
     "output_type": "execute_result"
    }
   ],
   "source": [
    "a.getMin()"
   ]
  },
  {
   "cell_type": "code",
   "execution_count": null,
   "id": "4dd07589",
   "metadata": {},
   "outputs": [],
   "source": []
  }
 ],
 "metadata": {
  "kernelspec": {
   "display_name": "Python 3 (ipykernel)",
   "language": "python",
   "name": "python3"
  },
  "language_info": {
   "codemirror_mode": {
    "name": "ipython",
    "version": 3
   },
   "file_extension": ".py",
   "mimetype": "text/x-python",
   "name": "python",
   "nbconvert_exporter": "python",
   "pygments_lexer": "ipython3",
   "version": "3.9.7"
  }
 },
 "nbformat": 4,
 "nbformat_minor": 5
}
