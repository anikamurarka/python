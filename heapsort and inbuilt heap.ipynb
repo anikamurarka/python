{
 "cells": [
  {
   "cell_type": "code",
   "execution_count": 1,
   "id": "fdd59884",
   "metadata": {},
   "outputs": [],
   "source": [
    "# concept -> if there are n nodes in a CBT, there will be n/2 non-leaf nodes\n",
    "# start from n/2 -1 and go till 0 and do downHeapify\n",
    "# array will be converted to head in O(n) time complexity"
   ]
  },
  {
   "cell_type": "code",
   "execution_count": 2,
   "id": "9ac070ec",
   "metadata": {},
   "outputs": [
    {
     "ename": "KeyboardInterrupt",
     "evalue": "Interrupted by user",
     "output_type": "error",
     "traceback": [
      "\u001b[0;31m---------------------------------------------------------------------------\u001b[0m",
      "\u001b[0;31mKeyboardInterrupt\u001b[0m                         Traceback (most recent call last)",
      "\u001b[0;32m/var/folders/x_/2nhckcv12_94jtlx8yl6x16m0000gn/T/ipykernel_58731/1158777734.py\u001b[0m in \u001b[0;36m<module>\u001b[0;34m\u001b[0m\n\u001b[1;32m     52\u001b[0m \u001b[0;34m\u001b[0m\u001b[0m\n\u001b[1;32m     53\u001b[0m \u001b[0;34m\u001b[0m\u001b[0m\n\u001b[0;32m---> 54\u001b[0;31m \u001b[0mn\u001b[0m \u001b[0;34m=\u001b[0m \u001b[0minput\u001b[0m\u001b[0;34m(\u001b[0m\u001b[0;34m)\u001b[0m\u001b[0;34m\u001b[0m\u001b[0;34m\u001b[0m\u001b[0m\n\u001b[0m\u001b[1;32m     55\u001b[0m \u001b[0marr\u001b[0m \u001b[0;34m=\u001b[0m \u001b[0;34m[\u001b[0m\u001b[0mint\u001b[0m\u001b[0;34m(\u001b[0m\u001b[0mele\u001b[0m\u001b[0;34m)\u001b[0m \u001b[0;32mfor\u001b[0m \u001b[0mele\u001b[0m \u001b[0;32min\u001b[0m \u001b[0minput\u001b[0m\u001b[0;34m(\u001b[0m\u001b[0;34m)\u001b[0m\u001b[0;34m.\u001b[0m\u001b[0msplit\u001b[0m\u001b[0;34m(\u001b[0m\u001b[0;34m)\u001b[0m\u001b[0;34m]\u001b[0m\u001b[0;34m\u001b[0m\u001b[0;34m\u001b[0m\u001b[0m\n\u001b[1;32m     56\u001b[0m \u001b[0mheapSort\u001b[0m\u001b[0;34m(\u001b[0m\u001b[0marr\u001b[0m\u001b[0;34m)\u001b[0m\u001b[0;34m\u001b[0m\u001b[0;34m\u001b[0m\u001b[0m\n",
      "\u001b[0;32m~/opt/anaconda3/lib/python3.9/site-packages/ipykernel/kernelbase.py\u001b[0m in \u001b[0;36mraw_input\u001b[0;34m(self, prompt)\u001b[0m\n\u001b[1;32m   1004\u001b[0m                 \u001b[0;34m\"raw_input was called, but this frontend does not support input requests.\"\u001b[0m\u001b[0;34m\u001b[0m\u001b[0;34m\u001b[0m\u001b[0m\n\u001b[1;32m   1005\u001b[0m             )\n\u001b[0;32m-> 1006\u001b[0;31m         return self._input_request(\n\u001b[0m\u001b[1;32m   1007\u001b[0m             \u001b[0mstr\u001b[0m\u001b[0;34m(\u001b[0m\u001b[0mprompt\u001b[0m\u001b[0;34m)\u001b[0m\u001b[0;34m,\u001b[0m\u001b[0;34m\u001b[0m\u001b[0;34m\u001b[0m\u001b[0m\n\u001b[1;32m   1008\u001b[0m             \u001b[0mself\u001b[0m\u001b[0;34m.\u001b[0m\u001b[0m_parent_ident\u001b[0m\u001b[0;34m[\u001b[0m\u001b[0;34m\"shell\"\u001b[0m\u001b[0;34m]\u001b[0m\u001b[0;34m,\u001b[0m\u001b[0;34m\u001b[0m\u001b[0;34m\u001b[0m\u001b[0m\n",
      "\u001b[0;32m~/opt/anaconda3/lib/python3.9/site-packages/ipykernel/kernelbase.py\u001b[0m in \u001b[0;36m_input_request\u001b[0;34m(self, prompt, ident, parent, password)\u001b[0m\n\u001b[1;32m   1049\u001b[0m             \u001b[0;32mexcept\u001b[0m \u001b[0mKeyboardInterrupt\u001b[0m\u001b[0;34m:\u001b[0m\u001b[0;34m\u001b[0m\u001b[0;34m\u001b[0m\u001b[0m\n\u001b[1;32m   1050\u001b[0m                 \u001b[0;31m# re-raise KeyboardInterrupt, to truncate traceback\u001b[0m\u001b[0;34m\u001b[0m\u001b[0;34m\u001b[0m\u001b[0m\n\u001b[0;32m-> 1051\u001b[0;31m                 \u001b[0;32mraise\u001b[0m \u001b[0mKeyboardInterrupt\u001b[0m\u001b[0;34m(\u001b[0m\u001b[0;34m\"Interrupted by user\"\u001b[0m\u001b[0;34m)\u001b[0m \u001b[0;32mfrom\u001b[0m \u001b[0;32mNone\u001b[0m\u001b[0;34m\u001b[0m\u001b[0;34m\u001b[0m\u001b[0m\n\u001b[0m\u001b[1;32m   1052\u001b[0m             \u001b[0;32mexcept\u001b[0m \u001b[0mException\u001b[0m\u001b[0;34m:\u001b[0m\u001b[0;34m\u001b[0m\u001b[0;34m\u001b[0m\u001b[0m\n\u001b[1;32m   1053\u001b[0m                 \u001b[0mself\u001b[0m\u001b[0;34m.\u001b[0m\u001b[0mlog\u001b[0m\u001b[0;34m.\u001b[0m\u001b[0mwarning\u001b[0m\u001b[0;34m(\u001b[0m\u001b[0;34m\"Invalid Message:\"\u001b[0m\u001b[0;34m,\u001b[0m \u001b[0mexc_info\u001b[0m\u001b[0;34m=\u001b[0m\u001b[0;32mTrue\u001b[0m\u001b[0;34m)\u001b[0m\u001b[0;34m\u001b[0m\u001b[0;34m\u001b[0m\u001b[0m\n",
      "\u001b[0;31mKeyboardInterrupt\u001b[0m: Interrupted by user"
     ]
    }
   ],
   "source": [
    "\n",
    "def upHeapify(i,arr):\n",
    "    ci = i\n",
    "    pi = (ci-1)//2\n",
    "    while pi >=0:\n",
    "        if arr[ci]>arr[pi]:\n",
    "            arr[ci],arr[pi]=arr[pi],arr[ci]\n",
    "        else:\n",
    "            break\n",
    "        ci = pi\n",
    "        pi = (ci-1)//2\n",
    "    return\n",
    "\n",
    "def downHeapify(i,arr,n):\n",
    "    # print(\"1\",arr)\n",
    "    pi = i\n",
    "    ci1 = 2*i +1\n",
    "    ci2 = 2*i +2\n",
    "    mi = pi\n",
    "    # print(pi,ci1,ci2)\n",
    "    while ci1 < n:\n",
    "        if arr[ci1]>arr[pi]:\n",
    "            mi = ci1\n",
    "        if ci2<n and arr[ci2]>arr[mi]:\n",
    "            mi = ci2\n",
    "        if mi == pi:\n",
    "            break\n",
    "        arr[pi],arr[mi] = arr[mi],arr[pi]\n",
    "        pi = mi\n",
    "        ci1 = 2*pi +1\n",
    "        ci2 = 2*pi +2 \n",
    "    # print(\"2\",arr)\n",
    "    # print()\n",
    "    return arr\n",
    "\n",
    "def heapSort(arr):\n",
    "    n = len(arr)\n",
    "    i = (n//2) -1\n",
    "    while i >= 0:\n",
    "        downHeapify(i,arr,n)\n",
    "        # print(arr)\n",
    "        i = i-1\n",
    "    \n",
    "    i = n-1\n",
    "    while i >=0:\n",
    "        # print(arr)\n",
    "        arr[i],arr[0] = arr[0],arr[i]\n",
    "        downHeapify(0,arr,i)\n",
    "        # print(\"3\",arr)\n",
    "        # print()\n",
    "        i = i-1\n",
    "    return\n",
    "    \n",
    "\n",
    "n = input()\n",
    "arr = [int(ele) for ele in input().split()]\n",
    "heapSort(arr)\n",
    "for ele in arr[::-1]:\n",
    "    print(ele,end=' ')"
   ]
  },
  {
   "cell_type": "code",
   "execution_count": 19,
   "id": "7df9503e",
   "metadata": {},
   "outputs": [
    {
     "name": "stdout",
     "output_type": "stream",
     "text": [
      "[1, 5, 4, 8, 7, 9, 11]\n"
     ]
    }
   ],
   "source": [
    "# inbuild heaps\n",
    "import heapq\n",
    "li = [1,5,4,8,7,9,11]\n",
    "heapq.heapify(li)\n",
    "print(li)"
   ]
  },
  {
   "cell_type": "code",
   "execution_count": 20,
   "id": "c40b07a0",
   "metadata": {},
   "outputs": [],
   "source": [
    "# pushing new element\n",
    "heapq.heappush(li,2)"
   ]
  },
  {
   "cell_type": "code",
   "execution_count": 21,
   "id": "4e1ecd6b",
   "metadata": {},
   "outputs": [
    {
     "data": {
      "text/plain": [
       "[1, 2, 4, 5, 7, 9, 11, 8]"
      ]
     },
     "execution_count": 21,
     "metadata": {},
     "output_type": "execute_result"
    }
   ],
   "source": [
    "li"
   ]
  },
  {
   "cell_type": "code",
   "execution_count": 22,
   "id": "1e2c59cb",
   "metadata": {},
   "outputs": [
    {
     "name": "stdout",
     "output_type": "stream",
     "text": [
      "1\n"
     ]
    }
   ],
   "source": [
    "# heap pop\n",
    "print(heapq.heappop(li))"
   ]
  },
  {
   "cell_type": "code",
   "execution_count": 23,
   "id": "59cfe9fb",
   "metadata": {},
   "outputs": [
    {
     "data": {
      "text/plain": [
       "2"
      ]
     },
     "execution_count": 23,
     "metadata": {},
     "output_type": "execute_result"
    }
   ],
   "source": [
    "# replace the top element with the given element and heapify\n",
    "heapq.heapreplace(li,6)"
   ]
  },
  {
   "cell_type": "code",
   "execution_count": 26,
   "id": "77f797f6",
   "metadata": {},
   "outputs": [
    {
     "name": "stdout",
     "output_type": "stream",
     "text": [
      "[11, 8, 9, 5, 7, 1, 4]\n"
     ]
    }
   ],
   "source": [
    "# inbuild max heap\n",
    "import heapq\n",
    "li = [1,5,4,8,7,9,11]\n",
    "heapq._heapify_max(li)\n",
    "print(li)"
   ]
  },
  {
   "cell_type": "code",
   "execution_count": 29,
   "id": "fb64fc5f",
   "metadata": {},
   "outputs": [
    {
     "data": {
      "text/plain": [
       "11"
      ]
     },
     "execution_count": 29,
     "metadata": {},
     "output_type": "execute_result"
    }
   ],
   "source": [
    "heapq._heappop_max(li)"
   ]
  },
  {
   "cell_type": "code",
   "execution_count": 30,
   "id": "d7f7e784",
   "metadata": {},
   "outputs": [
    {
     "data": {
      "text/plain": [
       "9"
      ]
     },
     "execution_count": 30,
     "metadata": {},
     "output_type": "execute_result"
    }
   ],
   "source": [
    "heapq._heapreplace_max(li,6)"
   ]
  },
  {
   "cell_type": "code",
   "execution_count": 32,
   "id": "8f4eefff",
   "metadata": {},
   "outputs": [],
   "source": [
    "#insert\n",
    "li.append(6)\n",
    "heapq._siftdown_max(li,0,len(li)-1) # itareable, until what pos, which index"
   ]
  },
  {
   "cell_type": "code",
   "execution_count": null,
   "id": "87ce02c6",
   "metadata": {},
   "outputs": [],
   "source": []
  }
 ],
 "metadata": {
  "kernelspec": {
   "display_name": "Python 3 (ipykernel)",
   "language": "python",
   "name": "python3"
  },
  "language_info": {
   "codemirror_mode": {
    "name": "ipython",
    "version": 3
   },
   "file_extension": ".py",
   "mimetype": "text/x-python",
   "name": "python",
   "nbconvert_exporter": "python",
   "pygments_lexer": "ipython3",
   "version": "3.9.7"
  }
 },
 "nbformat": 4,
 "nbformat_minor": 5
}
