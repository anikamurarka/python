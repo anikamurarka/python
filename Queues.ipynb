{
 "cells": [
  {
   "cell_type": "code",
   "execution_count": 1,
   "id": "764a1830",
   "metadata": {},
   "outputs": [],
   "source": [
    "# FIFO\n",
    "# enqueue -> insert\n",
    "# dequeue  -> remove\n",
    "# size\n",
    "# isEmpty\n",
    "# front\n",
    "# rear end -> element is inserted and front ends-> element is removed\n"
   ]
  },
  {
   "cell_type": "code",
   "execution_count": 4,
   "id": "a086f718",
   "metadata": {},
   "outputs": [],
   "source": [
    "# implementation of queues using array\n",
    "# class queue:\n",
    "#     def __init__ (self):\n",
    "#         self.__data =[]\n",
    "#     def enqueue(self,data):\n",
    "#     def dequeue(self):\n",
    "#     def top(self):\n",
    "#     def isEmpty(self):"
   ]
  },
  {
   "cell_type": "code",
   "execution_count": 5,
   "id": "87379be2",
   "metadata": {},
   "outputs": [],
   "source": [
    "def reverseQueue(inputQueue) :\n",
    "    if inputQueue.qsize() <2:\n",
    "        return\n",
    "    temp = inputQueue.get()\n",
    "    reverseQueue(inputQueue)\n",
    "    inputQueue.put(temp)\n",
    "    return"
   ]
  },
  {
   "cell_type": "code",
   "execution_count": null,
   "id": "08c7cef9",
   "metadata": {},
   "outputs": [],
   "source": []
  }
 ],
 "metadata": {
  "kernelspec": {
   "display_name": "Python 3 (ipykernel)",
   "language": "python",
   "name": "python3"
  },
  "language_info": {
   "codemirror_mode": {
    "name": "ipython",
    "version": 3
   },
   "file_extension": ".py",
   "mimetype": "text/x-python",
   "name": "python",
   "nbconvert_exporter": "python",
   "pygments_lexer": "ipython3",
   "version": "3.9.7"
  }
 },
 "nbformat": 4,
 "nbformat_minor": 5
}
