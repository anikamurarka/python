{
 "cells": [
  {
   "cell_type": "code",
   "execution_count": 1,
   "id": "764a1830",
   "metadata": {},
   "outputs": [],
   "source": [
    "# FIFO\n",
    "# enqueue -> insert\n",
    "# dequeue  -> remove\n",
    "# size\n",
    "# isEmpty\n",
    "# front\n",
    "# rear end -> element is inserted and front ends-> element is removed\n"
   ]
  },
  {
   "cell_type": "code",
   "execution_count": 4,
   "id": "a086f718",
   "metadata": {},
   "outputs": [],
   "source": [
    "# implementation of queues using array\n",
    "# class queue:\n",
    "#     def __init__ (self):\n",
    "#         self.__data =[]\n",
    "#     def enqueue(self,data):\n",
    "#     def dequeue(self):\n",
    "#     def top(self):\n",
    "#     def isEmpty(self):"
   ]
  },
  {
   "cell_type": "code",
   "execution_count": 5,
   "id": "87379be2",
   "metadata": {},
   "outputs": [],
   "source": [
    "def reverseQueue(inputQueue) :\n",
    "    if inputQueue.qsize() <2:\n",
    "        return\n",
    "    temp = inputQueue.get()\n",
    "    reverseQueue(inputQueue)\n",
    "    inputQueue.put(temp)\n",
    "    return"
   ]
  },
  {
   "cell_type": "code",
   "execution_count": 1,
   "id": "08c7cef9",
   "metadata": {},
   "outputs": [],
   "source": [
    "\n",
    "from sys import stdin\n",
    "\n",
    "\n",
    "#Following is the structure of the node class for a Singly Linked List\n",
    "class Node :\n",
    "\n",
    "    def __init__(self, data) :\n",
    "        self.data = data\n",
    "        self.next = None\n",
    "\n",
    "\n",
    "class Queue :\n",
    "    def __init__(self):\n",
    "        self.head = None\n",
    "        self.tail = None\n",
    "\n",
    "    def getSize(self) :\n",
    "        temp = self.head\n",
    "        len = 0\n",
    "        while temp:\n",
    "            temp = temp.next\n",
    "            len = len +1\n",
    "        return len\n",
    "\n",
    "\n",
    "    def isEmpty(self) :\n",
    "        return self.head == None\n",
    "\n",
    "\n",
    "    def enqueue(self, data) :\n",
    "        newNode = Node(data)\n",
    "        if self.isEmpty():\n",
    "            self.head = newNode\n",
    "            self.tail = newNode\n",
    "            return\n",
    "        self.tail.next = newNode\n",
    "        self.tail = self.tail.next\n",
    "        return\n",
    "\n",
    "\n",
    "    def dequeue(self) :\n",
    "        if self.isEmpty():\n",
    "            return -1\n",
    "        ans = self.head.data\n",
    "        self.head = self.head.next\n",
    "        return ans\n",
    "\n",
    "\n",
    "    def front(self) :\n",
    "        if self.isEmpty():\n",
    "            return -1\n",
    "        return self.head.data\n"
   ]
  },
  {
   "cell_type": "code",
   "execution_count": null,
   "id": "6502c54e",
   "metadata": {},
   "outputs": [],
   "source": []
  },
  {
   "cell_type": "code",
   "execution_count": null,
   "id": "7556d488",
   "metadata": {},
   "outputs": [],
   "source": []
  },
  {
   "cell_type": "code",
   "execution_count": 2,
   "id": "2f133572",
   "metadata": {},
   "outputs": [],
   "source": []
  },
  {
   "cell_type": "code",
   "execution_count": 3,
   "id": "e8daa69d",
   "metadata": {},
   "outputs": [],
   "source": []
  },
  {
   "cell_type": "code",
   "execution_count": null,
   "id": "465c33f0",
   "metadata": {},
   "outputs": [],
   "source": []
  }
 ],
 "metadata": {
  "kernelspec": {
   "display_name": "Python 3 (ipykernel)",
   "language": "python",
   "name": "python3"
  },
  "language_info": {
   "codemirror_mode": {
    "name": "ipython",
    "version": 3
   },
   "file_extension": ".py",
   "mimetype": "text/x-python",
   "name": "python",
   "nbconvert_exporter": "python",
   "pygments_lexer": "ipython3",
   "version": "3.9.7"
  }
 },
 "nbformat": 4,
 "nbformat_minor": 5
}
