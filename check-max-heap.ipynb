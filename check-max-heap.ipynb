{
 "cells": [
  {
   "cell_type": "code",
   "execution_count": 1,
   "id": "152e96ad",
   "metadata": {},
   "outputs": [],
   "source": [
    "def checkMaxHeap(lst):\n",
    "    pi = 0\n",
    "    ci1 = 2*pi +1\n",
    "    ci2 = 2*pi +2\n",
    "    while ci1 < len(lst):\n",
    "        if lst[ci1]>lst[pi] or (ci2 < len(lst) and lst[ci2]>lst[pi]):\n",
    "            return False\n",
    "        pi = pi +1\n",
    "        ci1 = 2*pi +1\n",
    "        ci2 = 2*pi +2\n",
    "    return True"
   ]
  },
  {
   "cell_type": "code",
   "execution_count": null,
   "id": "a20e612f",
   "metadata": {},
   "outputs": [],
   "source": [
    "def kthLargest(lst, k):\n",
    "    heapq._heapify_max(lst)\n",
    "    while k-1:\n",
    "        heapq._heappop_max(lst)\n",
    "        k = k-1\n",
    "    return heapq._heappop_max(lst)\n",
    "    ######################"
   ]
  }
 ],
 "metadata": {
  "kernelspec": {
   "display_name": "Python 3 (ipykernel)",
   "language": "python",
   "name": "python3"
  },
  "language_info": {
   "codemirror_mode": {
    "name": "ipython",
    "version": 3
   },
   "file_extension": ".py",
   "mimetype": "text/x-python",
   "name": "python",
   "nbconvert_exporter": "python",
   "pygments_lexer": "ipython3",
   "version": "3.9.7"
  }
 },
 "nbformat": 4,
 "nbformat_minor": 5
}
