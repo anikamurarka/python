{
 "cells": [
  {
   "cell_type": "code",
   "execution_count": 1,
   "id": "b390498b",
   "metadata": {},
   "outputs": [],
   "source": [
    "class Node:\n",
    "    def __init__ (self, data):\n",
    "        self.data = data\n",
    "        self.next = None\n",
    "        "
   ]
  },
  {
   "cell_type": "code",
   "execution_count": 2,
   "id": "d886f117",
   "metadata": {},
   "outputs": [
    {
     "data": {
      "text/plain": [
       "<__main__.Node at 0x7fe5b7755400>"
      ]
     },
     "execution_count": 2,
     "metadata": {},
     "output_type": "execute_result"
    }
   ],
   "source": [
    "a = Node(13)\n",
    "a\n"
   ]
  },
  {
   "cell_type": "code",
   "execution_count": 3,
   "id": "ac5342f8",
   "metadata": {},
   "outputs": [],
   "source": [
    "b = Node(15)"
   ]
  },
  {
   "cell_type": "code",
   "execution_count": 4,
   "id": "267fde09",
   "metadata": {},
   "outputs": [],
   "source": [
    "a.next = b"
   ]
  },
  {
   "cell_type": "code",
   "execution_count": 5,
   "id": "58c041eb",
   "metadata": {},
   "outputs": [
    {
     "name": "stdout",
     "output_type": "stream",
     "text": [
      "13\n"
     ]
    }
   ],
   "source": [
    "print(a.data)"
   ]
  },
  {
   "cell_type": "code",
   "execution_count": 6,
   "id": "94475e5e",
   "metadata": {},
   "outputs": [
    {
     "name": "stdout",
     "output_type": "stream",
     "text": [
      "15\n"
     ]
    }
   ],
   "source": [
    "print(b.data)"
   ]
  },
  {
   "cell_type": "code",
   "execution_count": 7,
   "id": "7f67160a",
   "metadata": {},
   "outputs": [
    {
     "name": "stdout",
     "output_type": "stream",
     "text": [
      "15\n"
     ]
    }
   ],
   "source": [
    "print(a.next.data)"
   ]
  },
  {
   "cell_type": "code",
   "execution_count": null,
   "id": "33bbe122",
   "metadata": {},
   "outputs": [],
   "source": [
    "print(b.next.data) # attributeError"
   ]
  }
 ],
 "metadata": {
  "kernelspec": {
   "display_name": "Python 3 (ipykernel)",
   "language": "python",
   "name": "python3"
  },
  "language_info": {
   "codemirror_mode": {
    "name": "ipython",
    "version": 3
   },
   "file_extension": ".py",
   "mimetype": "text/x-python",
   "name": "python",
   "nbconvert_exporter": "python",
   "pygments_lexer": "ipython3",
   "version": "3.9.7"
  }
 },
 "nbformat": 4,
 "nbformat_minor": 5
}
